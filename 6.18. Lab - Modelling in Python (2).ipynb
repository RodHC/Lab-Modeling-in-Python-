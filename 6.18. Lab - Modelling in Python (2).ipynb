{
 "cells": [
  {
   "cell_type": "markdown",
   "metadata": {},
   "source": [
    "# 6.18. Lab - Modelling in Python"
   ]
  },
  {
   "cell_type": "markdown",
   "metadata": {},
   "source": [
    "## Introduction\n",
    "\n",
    "In this lab we will step through an end-to-end prediction process. Our data comes from the UCI Machine Learning Repository: [bank data](https://archive.ics.uci.edu/ml/datasets/Bank+Marketing)\n",
    "\n",
    "The goal is binary classification; to predict whether a customer will purchase a banking product marketed over the phone.\n",
    "\n",
    "## Scenario\n",
    "\n",
    "You are a data analyst working for a Portuguese bank. The bank has recently run a campaign to attempt to sell a new product to customers over the phone. The product is a term deposit, where customers deposit their money for a fixed period of time for a fixed interest rate. They want to analyze the results of this campaign to understand what makes customers likely to buy this particular product. Your job as the data analyst is to explore the data and use machine learning to build a model to predict whether a customer is likely to buy.\n",
    "\n",
    "# <font color=\"red\">Section 1 - exploration</font>\n",
    "\n",
    "Take a look at the data:"
   ]
  },
  {
   "cell_type": "code",
   "execution_count": 206,
   "metadata": {},
   "outputs": [
    {
     "data": {
      "application/vnd.microsoft.datawrangler.viewer.v0+json": {
       "columns": [
        {
         "name": "index",
         "rawType": "int64",
         "type": "integer"
        },
        {
         "name": "age",
         "rawType": "int64",
         "type": "integer"
        },
        {
         "name": "job",
         "rawType": "object",
         "type": "string"
        },
        {
         "name": "marital",
         "rawType": "object",
         "type": "string"
        },
        {
         "name": "education",
         "rawType": "object",
         "type": "string"
        },
        {
         "name": "default",
         "rawType": "float64",
         "type": "float"
        },
        {
         "name": "housing",
         "rawType": "float64",
         "type": "float"
        },
        {
         "name": "loan",
         "rawType": "float64",
         "type": "float"
        },
        {
         "name": "contact",
         "rawType": "object",
         "type": "string"
        },
        {
         "name": "month",
         "rawType": "object",
         "type": "string"
        },
        {
         "name": "day_of_week",
         "rawType": "object",
         "type": "string"
        },
        {
         "name": "campaign",
         "rawType": "int64",
         "type": "integer"
        },
        {
         "name": "pdays",
         "rawType": "int64",
         "type": "integer"
        },
        {
         "name": "previous",
         "rawType": "int64",
         "type": "integer"
        },
        {
         "name": "poutcome",
         "rawType": "object",
         "type": "string"
        },
        {
         "name": "emp.var.rate",
         "rawType": "float64",
         "type": "float"
        },
        {
         "name": "cons.price.idx",
         "rawType": "float64",
         "type": "float"
        },
        {
         "name": "cons.conf.idx",
         "rawType": "float64",
         "type": "float"
        },
        {
         "name": "euribor3m",
         "rawType": "float64",
         "type": "float"
        },
        {
         "name": "nr.employed",
         "rawType": "float64",
         "type": "float"
        },
        {
         "name": "y",
         "rawType": "int64",
         "type": "integer"
        }
       ],
       "ref": "7cedfb2f-ac86-498a-a793-613a7caae863",
       "rows": [
        [
         "0",
         "56",
         "housemaid",
         "married",
         "basic.4y",
         "0.0",
         "0.0",
         "0.0",
         "telephone",
         "may",
         "mon",
         "1",
         "999",
         "0",
         "nonexistent",
         "1.1",
         "93.994",
         "-36.4",
         "4.857",
         "5191.0",
         "0"
        ],
        [
         "1",
         "57",
         "services",
         "married",
         "high.school",
         null,
         "0.0",
         "0.0",
         "telephone",
         "may",
         "mon",
         "1",
         "999",
         "0",
         "nonexistent",
         "1.1",
         "93.994",
         "-36.4",
         "4.857",
         "5191.0",
         "0"
        ],
        [
         "2",
         "37",
         "services",
         "married",
         "high.school",
         "0.0",
         "1.0",
         "0.0",
         "telephone",
         "may",
         "mon",
         "1",
         "999",
         "0",
         "nonexistent",
         "1.1",
         "93.994",
         "-36.4",
         "4.857",
         "5191.0",
         "0"
        ],
        [
         "3",
         "40",
         "admin.",
         "married",
         "basic.6y",
         "0.0",
         "0.0",
         "0.0",
         "telephone",
         "may",
         "mon",
         "1",
         "999",
         "0",
         "nonexistent",
         "1.1",
         "93.994",
         "-36.4",
         "4.857",
         "5191.0",
         "0"
        ],
        [
         "4",
         "56",
         "services",
         "married",
         "high.school",
         "0.0",
         "0.0",
         "1.0",
         "telephone",
         "may",
         "mon",
         "1",
         "999",
         "0",
         "nonexistent",
         "1.1",
         "93.994",
         "-36.4",
         "4.857",
         "5191.0",
         "0"
        ]
       ],
       "shape": {
        "columns": 20,
        "rows": 5
       }
      },
      "text/html": [
       "<div>\n",
       "<style scoped>\n",
       "    .dataframe tbody tr th:only-of-type {\n",
       "        vertical-align: middle;\n",
       "    }\n",
       "\n",
       "    .dataframe tbody tr th {\n",
       "        vertical-align: top;\n",
       "    }\n",
       "\n",
       "    .dataframe thead th {\n",
       "        text-align: right;\n",
       "    }\n",
       "</style>\n",
       "<table border=\"1\" class=\"dataframe\">\n",
       "  <thead>\n",
       "    <tr style=\"text-align: right;\">\n",
       "      <th></th>\n",
       "      <th>age</th>\n",
       "      <th>job</th>\n",
       "      <th>marital</th>\n",
       "      <th>education</th>\n",
       "      <th>default</th>\n",
       "      <th>housing</th>\n",
       "      <th>loan</th>\n",
       "      <th>contact</th>\n",
       "      <th>month</th>\n",
       "      <th>day_of_week</th>\n",
       "      <th>campaign</th>\n",
       "      <th>pdays</th>\n",
       "      <th>previous</th>\n",
       "      <th>poutcome</th>\n",
       "      <th>emp.var.rate</th>\n",
       "      <th>cons.price.idx</th>\n",
       "      <th>cons.conf.idx</th>\n",
       "      <th>euribor3m</th>\n",
       "      <th>nr.employed</th>\n",
       "      <th>y</th>\n",
       "    </tr>\n",
       "  </thead>\n",
       "  <tbody>\n",
       "    <tr>\n",
       "      <th>0</th>\n",
       "      <td>56</td>\n",
       "      <td>housemaid</td>\n",
       "      <td>married</td>\n",
       "      <td>basic.4y</td>\n",
       "      <td>0.0</td>\n",
       "      <td>0.0</td>\n",
       "      <td>0.0</td>\n",
       "      <td>telephone</td>\n",
       "      <td>may</td>\n",
       "      <td>mon</td>\n",
       "      <td>1</td>\n",
       "      <td>999</td>\n",
       "      <td>0</td>\n",
       "      <td>nonexistent</td>\n",
       "      <td>1.1</td>\n",
       "      <td>93.994</td>\n",
       "      <td>-36.4</td>\n",
       "      <td>4.857</td>\n",
       "      <td>5191.0</td>\n",
       "      <td>0</td>\n",
       "    </tr>\n",
       "    <tr>\n",
       "      <th>1</th>\n",
       "      <td>57</td>\n",
       "      <td>services</td>\n",
       "      <td>married</td>\n",
       "      <td>high.school</td>\n",
       "      <td>NaN</td>\n",
       "      <td>0.0</td>\n",
       "      <td>0.0</td>\n",
       "      <td>telephone</td>\n",
       "      <td>may</td>\n",
       "      <td>mon</td>\n",
       "      <td>1</td>\n",
       "      <td>999</td>\n",
       "      <td>0</td>\n",
       "      <td>nonexistent</td>\n",
       "      <td>1.1</td>\n",
       "      <td>93.994</td>\n",
       "      <td>-36.4</td>\n",
       "      <td>4.857</td>\n",
       "      <td>5191.0</td>\n",
       "      <td>0</td>\n",
       "    </tr>\n",
       "    <tr>\n",
       "      <th>2</th>\n",
       "      <td>37</td>\n",
       "      <td>services</td>\n",
       "      <td>married</td>\n",
       "      <td>high.school</td>\n",
       "      <td>0.0</td>\n",
       "      <td>1.0</td>\n",
       "      <td>0.0</td>\n",
       "      <td>telephone</td>\n",
       "      <td>may</td>\n",
       "      <td>mon</td>\n",
       "      <td>1</td>\n",
       "      <td>999</td>\n",
       "      <td>0</td>\n",
       "      <td>nonexistent</td>\n",
       "      <td>1.1</td>\n",
       "      <td>93.994</td>\n",
       "      <td>-36.4</td>\n",
       "      <td>4.857</td>\n",
       "      <td>5191.0</td>\n",
       "      <td>0</td>\n",
       "    </tr>\n",
       "    <tr>\n",
       "      <th>3</th>\n",
       "      <td>40</td>\n",
       "      <td>admin.</td>\n",
       "      <td>married</td>\n",
       "      <td>basic.6y</td>\n",
       "      <td>0.0</td>\n",
       "      <td>0.0</td>\n",
       "      <td>0.0</td>\n",
       "      <td>telephone</td>\n",
       "      <td>may</td>\n",
       "      <td>mon</td>\n",
       "      <td>1</td>\n",
       "      <td>999</td>\n",
       "      <td>0</td>\n",
       "      <td>nonexistent</td>\n",
       "      <td>1.1</td>\n",
       "      <td>93.994</td>\n",
       "      <td>-36.4</td>\n",
       "      <td>4.857</td>\n",
       "      <td>5191.0</td>\n",
       "      <td>0</td>\n",
       "    </tr>\n",
       "    <tr>\n",
       "      <th>4</th>\n",
       "      <td>56</td>\n",
       "      <td>services</td>\n",
       "      <td>married</td>\n",
       "      <td>high.school</td>\n",
       "      <td>0.0</td>\n",
       "      <td>0.0</td>\n",
       "      <td>1.0</td>\n",
       "      <td>telephone</td>\n",
       "      <td>may</td>\n",
       "      <td>mon</td>\n",
       "      <td>1</td>\n",
       "      <td>999</td>\n",
       "      <td>0</td>\n",
       "      <td>nonexistent</td>\n",
       "      <td>1.1</td>\n",
       "      <td>93.994</td>\n",
       "      <td>-36.4</td>\n",
       "      <td>4.857</td>\n",
       "      <td>5191.0</td>\n",
       "      <td>0</td>\n",
       "    </tr>\n",
       "  </tbody>\n",
       "</table>\n",
       "</div>"
      ],
      "text/plain": [
       "   age        job  marital    education  default  housing  loan    contact  \\\n",
       "0   56  housemaid  married     basic.4y      0.0      0.0   0.0  telephone   \n",
       "1   57   services  married  high.school      NaN      0.0   0.0  telephone   \n",
       "2   37   services  married  high.school      0.0      1.0   0.0  telephone   \n",
       "3   40     admin.  married     basic.6y      0.0      0.0   0.0  telephone   \n",
       "4   56   services  married  high.school      0.0      0.0   1.0  telephone   \n",
       "\n",
       "  month day_of_week  campaign  pdays  previous     poutcome  emp.var.rate  \\\n",
       "0   may         mon         1    999         0  nonexistent           1.1   \n",
       "1   may         mon         1    999         0  nonexistent           1.1   \n",
       "2   may         mon         1    999         0  nonexistent           1.1   \n",
       "3   may         mon         1    999         0  nonexistent           1.1   \n",
       "4   may         mon         1    999         0  nonexistent           1.1   \n",
       "\n",
       "   cons.price.idx  cons.conf.idx  euribor3m  nr.employed  y  \n",
       "0          93.994          -36.4      4.857       5191.0  0  \n",
       "1          93.994          -36.4      4.857       5191.0  0  \n",
       "2          93.994          -36.4      4.857       5191.0  0  \n",
       "3          93.994          -36.4      4.857       5191.0  0  \n",
       "4          93.994          -36.4      4.857       5191.0  0  "
      ]
     },
     "execution_count": 206,
     "metadata": {},
     "output_type": "execute_result"
    }
   ],
   "source": [
    "import pandas as pd\n",
    "import numpy as np\n",
    "import matplotlib.pyplot as plt\n",
    "import seaborn as sns\n",
    "\n",
    "bank = pd.read_csv('bank.csv')\n",
    "\n",
    "bank.head()"
   ]
  },
  {
   "cell_type": "markdown",
   "metadata": {},
   "source": [
    "#### 1. Read the data dictionary to understand what the columns mean\n",
    "\n",
    "Which column is the one we will use for prediction?\n",
    "\n",
    "https://archive.ics.uci.edu/ml/datasets/Bank+Marketing"
   ]
  },
  {
   "cell_type": "markdown",
   "metadata": {},
   "source": [
    "#### 2. Summarise the dataset at a high level\n",
    "\n",
    "- How many rows and columns are there?\n",
    "- Are there any missing values?\n",
    "- Are the data types as you would expect them?\n",
    "\n",
    "What do each of the results tell you in turn?"
   ]
  },
  {
   "cell_type": "code",
   "execution_count": 207,
   "metadata": {},
   "outputs": [
    {
     "data": {
      "text/plain": [
       "(41188, 20)"
      ]
     },
     "execution_count": 207,
     "metadata": {},
     "output_type": "execute_result"
    }
   ],
   "source": [
    "# 4,188 observations and 20 columns (19 feautures and response)\n",
    "bank.shape"
   ]
  },
  {
   "cell_type": "code",
   "execution_count": 208,
   "metadata": {},
   "outputs": [
    {
     "name": "stdout",
     "output_type": "stream",
     "text": [
      "<class 'pandas.core.frame.DataFrame'>\n",
      "RangeIndex: 41188 entries, 0 to 41187\n",
      "Data columns (total 20 columns):\n",
      " #   Column          Non-Null Count  Dtype  \n",
      "---  ------          --------------  -----  \n",
      " 0   age             41188 non-null  int64  \n",
      " 1   job             41188 non-null  object \n",
      " 2   marital         41188 non-null  object \n",
      " 3   education       41188 non-null  object \n",
      " 4   default         32591 non-null  float64\n",
      " 5   housing         40198 non-null  float64\n",
      " 6   loan            40198 non-null  float64\n",
      " 7   contact         41188 non-null  object \n",
      " 8   month           41188 non-null  object \n",
      " 9   day_of_week     41188 non-null  object \n",
      " 10  campaign        41188 non-null  int64  \n",
      " 11  pdays           41188 non-null  int64  \n",
      " 12  previous        41188 non-null  int64  \n",
      " 13  poutcome        41188 non-null  object \n",
      " 14  emp.var.rate    41188 non-null  float64\n",
      " 15  cons.price.idx  41188 non-null  float64\n",
      " 16  cons.conf.idx   41188 non-null  float64\n",
      " 17  euribor3m       41188 non-null  float64\n",
      " 18  nr.employed     41188 non-null  float64\n",
      " 19  y               41188 non-null  int64  \n",
      "dtypes: float64(8), int64(5), object(7)\n",
      "memory usage: 6.3+ MB\n"
     ]
    }
   ],
   "source": [
    "bank.info()"
   ]
  },
  {
   "cell_type": "code",
   "execution_count": 209,
   "metadata": {},
   "outputs": [
    {
     "name": "stdout",
     "output_type": "stream",
     "text": [
      "age                  0\n",
      "job                  0\n",
      "marital              0\n",
      "education            0\n",
      "default           8597\n",
      "housing            990\n",
      "loan               990\n",
      "contact              0\n",
      "month                0\n",
      "day_of_week          0\n",
      "campaign             0\n",
      "pdays                0\n",
      "previous             0\n",
      "poutcome             0\n",
      "emp.var.rate         0\n",
      "cons.price.idx       0\n",
      "cons.conf.idx        0\n",
      "euribor3m            0\n",
      "nr.employed          0\n",
      "y                    0\n",
      "dtype: int64\n"
     ]
    }
   ],
   "source": [
    "#Three columns have missing values \n",
    "\n",
    "print(bank.isnull().sum())"
   ]
  },
  {
   "cell_type": "code",
   "execution_count": 210,
   "metadata": {},
   "outputs": [
    {
     "data": {
      "application/vnd.microsoft.datawrangler.viewer.v0+json": {
       "columns": [
        {
         "name": "index",
         "rawType": "object",
         "type": "string"
        },
        {
         "name": "age",
         "rawType": "int64",
         "type": "integer"
        },
        {
         "name": "job",
         "rawType": "object",
         "type": "string"
        },
        {
         "name": "marital",
         "rawType": "object",
         "type": "string"
        },
        {
         "name": "education",
         "rawType": "object",
         "type": "string"
        },
        {
         "name": "default",
         "rawType": "float64",
         "type": "float"
        },
        {
         "name": "housing",
         "rawType": "float64",
         "type": "float"
        },
        {
         "name": "loan",
         "rawType": "float64",
         "type": "float"
        },
        {
         "name": "contact",
         "rawType": "object",
         "type": "string"
        },
        {
         "name": "month",
         "rawType": "object",
         "type": "string"
        },
        {
         "name": "day_of_week",
         "rawType": "object",
         "type": "string"
        },
        {
         "name": "campaign",
         "rawType": "int64",
         "type": "integer"
        },
        {
         "name": "pdays",
         "rawType": "int64",
         "type": "integer"
        },
        {
         "name": "previous",
         "rawType": "int64",
         "type": "integer"
        },
        {
         "name": "poutcome",
         "rawType": "object",
         "type": "string"
        },
        {
         "name": "emp.var.rate",
         "rawType": "float64",
         "type": "float"
        },
        {
         "name": "cons.price.idx",
         "rawType": "float64",
         "type": "float"
        },
        {
         "name": "cons.conf.idx",
         "rawType": "float64",
         "type": "float"
        },
        {
         "name": "euribor3m",
         "rawType": "float64",
         "type": "float"
        },
        {
         "name": "nr.employed",
         "rawType": "float64",
         "type": "float"
        },
        {
         "name": "term_deposit",
         "rawType": "int64",
         "type": "integer"
        }
       ],
       "ref": "8a1143f4-9944-4ff2-9625-a488251fadab",
       "rows": [
        [
         "0",
         "56",
         "housemaid",
         "married",
         "basic.4y",
         "0.0",
         "0.0",
         "0.0",
         "telephone",
         "may",
         "mon",
         "1",
         "999",
         "0",
         "nonexistent",
         "1.1",
         "93.994",
         "-36.4",
         "4.857",
         "5191.0",
         "0"
        ],
        [
         "1",
         "57",
         "services",
         "married",
         "high.school",
         null,
         "0.0",
         "0.0",
         "telephone",
         "may",
         "mon",
         "1",
         "999",
         "0",
         "nonexistent",
         "1.1",
         "93.994",
         "-36.4",
         "4.857",
         "5191.0",
         "0"
        ],
        [
         "2",
         "37",
         "services",
         "married",
         "high.school",
         "0.0",
         "1.0",
         "0.0",
         "telephone",
         "may",
         "mon",
         "1",
         "999",
         "0",
         "nonexistent",
         "1.1",
         "93.994",
         "-36.4",
         "4.857",
         "5191.0",
         "0"
        ],
        [
         "3",
         "40",
         "admin.",
         "married",
         "basic.6y",
         "0.0",
         "0.0",
         "0.0",
         "telephone",
         "may",
         "mon",
         "1",
         "999",
         "0",
         "nonexistent",
         "1.1",
         "93.994",
         "-36.4",
         "4.857",
         "5191.0",
         "0"
        ],
        [
         "4",
         "56",
         "services",
         "married",
         "high.school",
         "0.0",
         "0.0",
         "1.0",
         "telephone",
         "may",
         "mon",
         "1",
         "999",
         "0",
         "nonexistent",
         "1.1",
         "93.994",
         "-36.4",
         "4.857",
         "5191.0",
         "0"
        ]
       ],
       "shape": {
        "columns": 20,
        "rows": 5
       }
      },
      "text/html": [
       "<div>\n",
       "<style scoped>\n",
       "    .dataframe tbody tr th:only-of-type {\n",
       "        vertical-align: middle;\n",
       "    }\n",
       "\n",
       "    .dataframe tbody tr th {\n",
       "        vertical-align: top;\n",
       "    }\n",
       "\n",
       "    .dataframe thead th {\n",
       "        text-align: right;\n",
       "    }\n",
       "</style>\n",
       "<table border=\"1\" class=\"dataframe\">\n",
       "  <thead>\n",
       "    <tr style=\"text-align: right;\">\n",
       "      <th></th>\n",
       "      <th>age</th>\n",
       "      <th>job</th>\n",
       "      <th>marital</th>\n",
       "      <th>education</th>\n",
       "      <th>default</th>\n",
       "      <th>housing</th>\n",
       "      <th>loan</th>\n",
       "      <th>contact</th>\n",
       "      <th>month</th>\n",
       "      <th>day_of_week</th>\n",
       "      <th>campaign</th>\n",
       "      <th>pdays</th>\n",
       "      <th>previous</th>\n",
       "      <th>poutcome</th>\n",
       "      <th>emp.var.rate</th>\n",
       "      <th>cons.price.idx</th>\n",
       "      <th>cons.conf.idx</th>\n",
       "      <th>euribor3m</th>\n",
       "      <th>nr.employed</th>\n",
       "      <th>term_deposit</th>\n",
       "    </tr>\n",
       "  </thead>\n",
       "  <tbody>\n",
       "    <tr>\n",
       "      <th>0</th>\n",
       "      <td>56</td>\n",
       "      <td>housemaid</td>\n",
       "      <td>married</td>\n",
       "      <td>basic.4y</td>\n",
       "      <td>0.0</td>\n",
       "      <td>0.0</td>\n",
       "      <td>0.0</td>\n",
       "      <td>telephone</td>\n",
       "      <td>may</td>\n",
       "      <td>mon</td>\n",
       "      <td>1</td>\n",
       "      <td>999</td>\n",
       "      <td>0</td>\n",
       "      <td>nonexistent</td>\n",
       "      <td>1.1</td>\n",
       "      <td>93.994</td>\n",
       "      <td>-36.4</td>\n",
       "      <td>4.857</td>\n",
       "      <td>5191.0</td>\n",
       "      <td>0</td>\n",
       "    </tr>\n",
       "    <tr>\n",
       "      <th>1</th>\n",
       "      <td>57</td>\n",
       "      <td>services</td>\n",
       "      <td>married</td>\n",
       "      <td>high.school</td>\n",
       "      <td>NaN</td>\n",
       "      <td>0.0</td>\n",
       "      <td>0.0</td>\n",
       "      <td>telephone</td>\n",
       "      <td>may</td>\n",
       "      <td>mon</td>\n",
       "      <td>1</td>\n",
       "      <td>999</td>\n",
       "      <td>0</td>\n",
       "      <td>nonexistent</td>\n",
       "      <td>1.1</td>\n",
       "      <td>93.994</td>\n",
       "      <td>-36.4</td>\n",
       "      <td>4.857</td>\n",
       "      <td>5191.0</td>\n",
       "      <td>0</td>\n",
       "    </tr>\n",
       "    <tr>\n",
       "      <th>2</th>\n",
       "      <td>37</td>\n",
       "      <td>services</td>\n",
       "      <td>married</td>\n",
       "      <td>high.school</td>\n",
       "      <td>0.0</td>\n",
       "      <td>1.0</td>\n",
       "      <td>0.0</td>\n",
       "      <td>telephone</td>\n",
       "      <td>may</td>\n",
       "      <td>mon</td>\n",
       "      <td>1</td>\n",
       "      <td>999</td>\n",
       "      <td>0</td>\n",
       "      <td>nonexistent</td>\n",
       "      <td>1.1</td>\n",
       "      <td>93.994</td>\n",
       "      <td>-36.4</td>\n",
       "      <td>4.857</td>\n",
       "      <td>5191.0</td>\n",
       "      <td>0</td>\n",
       "    </tr>\n",
       "    <tr>\n",
       "      <th>3</th>\n",
       "      <td>40</td>\n",
       "      <td>admin.</td>\n",
       "      <td>married</td>\n",
       "      <td>basic.6y</td>\n",
       "      <td>0.0</td>\n",
       "      <td>0.0</td>\n",
       "      <td>0.0</td>\n",
       "      <td>telephone</td>\n",
       "      <td>may</td>\n",
       "      <td>mon</td>\n",
       "      <td>1</td>\n",
       "      <td>999</td>\n",
       "      <td>0</td>\n",
       "      <td>nonexistent</td>\n",
       "      <td>1.1</td>\n",
       "      <td>93.994</td>\n",
       "      <td>-36.4</td>\n",
       "      <td>4.857</td>\n",
       "      <td>5191.0</td>\n",
       "      <td>0</td>\n",
       "    </tr>\n",
       "    <tr>\n",
       "      <th>4</th>\n",
       "      <td>56</td>\n",
       "      <td>services</td>\n",
       "      <td>married</td>\n",
       "      <td>high.school</td>\n",
       "      <td>0.0</td>\n",
       "      <td>0.0</td>\n",
       "      <td>1.0</td>\n",
       "      <td>telephone</td>\n",
       "      <td>may</td>\n",
       "      <td>mon</td>\n",
       "      <td>1</td>\n",
       "      <td>999</td>\n",
       "      <td>0</td>\n",
       "      <td>nonexistent</td>\n",
       "      <td>1.1</td>\n",
       "      <td>93.994</td>\n",
       "      <td>-36.4</td>\n",
       "      <td>4.857</td>\n",
       "      <td>5191.0</td>\n",
       "      <td>0</td>\n",
       "    </tr>\n",
       "  </tbody>\n",
       "</table>\n",
       "</div>"
      ],
      "text/plain": [
       "   age        job  marital    education  default  housing  loan    contact  \\\n",
       "0   56  housemaid  married     basic.4y      0.0      0.0   0.0  telephone   \n",
       "1   57   services  married  high.school      NaN      0.0   0.0  telephone   \n",
       "2   37   services  married  high.school      0.0      1.0   0.0  telephone   \n",
       "3   40     admin.  married     basic.6y      0.0      0.0   0.0  telephone   \n",
       "4   56   services  married  high.school      0.0      0.0   1.0  telephone   \n",
       "\n",
       "  month day_of_week  campaign  pdays  previous     poutcome  emp.var.rate  \\\n",
       "0   may         mon         1    999         0  nonexistent           1.1   \n",
       "1   may         mon         1    999         0  nonexistent           1.1   \n",
       "2   may         mon         1    999         0  nonexistent           1.1   \n",
       "3   may         mon         1    999         0  nonexistent           1.1   \n",
       "4   may         mon         1    999         0  nonexistent           1.1   \n",
       "\n",
       "   cons.price.idx  cons.conf.idx  euribor3m  nr.employed  term_deposit  \n",
       "0          93.994          -36.4      4.857       5191.0             0  \n",
       "1          93.994          -36.4      4.857       5191.0             0  \n",
       "2          93.994          -36.4      4.857       5191.0             0  \n",
       "3          93.994          -36.4      4.857       5191.0             0  \n",
       "4          93.994          -36.4      4.857       5191.0             0  "
      ]
     },
     "execution_count": 210,
     "metadata": {},
     "output_type": "execute_result"
    }
   ],
   "source": [
    "#Rename target column\n",
    "\n",
    "bank.rename(index=str, columns={'y': 'term_deposit'}, inplace=True)\n",
    "bank.head()"
   ]
  },
  {
   "cell_type": "markdown",
   "metadata": {},
   "source": [
    "#### 3. Investigate your features.\n",
    "\n",
    "For each variable of interest you may want to:\n",
    "\n",
    "- Investigate the spread of values\n",
    "- Check for outliers\n",
    "    - What do the outliers represent? Are they meaningful or are they more likely to be errors?\n",
    "    - Are the outliers \"different\" from our main population in a meaningful way?\n",
    "    - Do the outliers represent customers that you would still want to make predictions on?"
   ]
  },
  {
   "cell_type": "code",
   "execution_count": 211,
   "metadata": {},
   "outputs": [
    {
     "data": {
      "application/vnd.microsoft.datawrangler.viewer.v0+json": {
       "columns": [
        {
         "name": "index",
         "rawType": "object",
         "type": "string"
        },
        {
         "name": "age",
         "rawType": "float64",
         "type": "float"
        },
        {
         "name": "default",
         "rawType": "float64",
         "type": "float"
        },
        {
         "name": "housing",
         "rawType": "float64",
         "type": "float"
        },
        {
         "name": "loan",
         "rawType": "float64",
         "type": "float"
        },
        {
         "name": "campaign",
         "rawType": "float64",
         "type": "float"
        },
        {
         "name": "pdays",
         "rawType": "float64",
         "type": "float"
        },
        {
         "name": "previous",
         "rawType": "float64",
         "type": "float"
        },
        {
         "name": "emp.var.rate",
         "rawType": "float64",
         "type": "float"
        },
        {
         "name": "cons.price.idx",
         "rawType": "float64",
         "type": "float"
        },
        {
         "name": "cons.conf.idx",
         "rawType": "float64",
         "type": "float"
        },
        {
         "name": "euribor3m",
         "rawType": "float64",
         "type": "float"
        },
        {
         "name": "nr.employed",
         "rawType": "float64",
         "type": "float"
        },
        {
         "name": "term_deposit",
         "rawType": "float64",
         "type": "float"
        }
       ],
       "ref": "77f85219-979d-4990-9fc0-40cd2e844fae",
       "rows": [
        [
         "count",
         "41188.0",
         "32591.0",
         "40198.0",
         "40198.0",
         "41188.0",
         "41188.0",
         "41188.0",
         "41188.0",
         "41188.0",
         "41188.0",
         "41188.0",
         "41188.0",
         "41188.0"
        ],
        [
         "mean",
         "40.02406040594348",
         "9.204995244085791e-05",
         "0.5367431215483357",
         "0.1554306184387283",
         "2.567592502670681",
         "962.4754540157328",
         "0.17296299893172767",
         "0.08188550063125165",
         "93.57566436826262",
         "-40.50260027192386",
         "3.621290812858114",
         "5167.035910944936",
         "0.11265417111780131"
        ],
        [
         "std",
         "10.421249980934048",
         "0.009593972246765111",
         "0.4986543179422751",
         "0.36231920595708034",
         "2.7700135429023276",
         "186.9109073447418",
         "0.4949010798392897",
         "1.5709597405170255",
         "0.5788400489541262",
         "4.628197856174544",
         "1.734447404851267",
         "72.25152766826108",
         "0.3161734269429649"
        ],
        [
         "min",
         "17.0",
         "0.0",
         "0.0",
         "0.0",
         "1.0",
         "0.0",
         "0.0",
         "-3.4",
         "92.201",
         "-50.8",
         "0.634",
         "4963.6",
         "0.0"
        ],
        [
         "25%",
         "32.0",
         "0.0",
         "0.0",
         "0.0",
         "1.0",
         "999.0",
         "0.0",
         "-1.8",
         "93.075",
         "-42.7",
         "1.344",
         "5099.1",
         "0.0"
        ],
        [
         "50%",
         "38.0",
         "0.0",
         "1.0",
         "0.0",
         "2.0",
         "999.0",
         "0.0",
         "1.1",
         "93.749",
         "-41.8",
         "4.857",
         "5191.0",
         "0.0"
        ],
        [
         "75%",
         "47.0",
         "0.0",
         "1.0",
         "0.0",
         "3.0",
         "999.0",
         "0.0",
         "1.4",
         "93.994",
         "-36.4",
         "4.961",
         "5228.1",
         "0.0"
        ],
        [
         "max",
         "98.0",
         "1.0",
         "1.0",
         "1.0",
         "56.0",
         "999.0",
         "7.0",
         "1.4",
         "94.767",
         "-26.9",
         "5.045",
         "5228.1",
         "1.0"
        ]
       ],
       "shape": {
        "columns": 13,
        "rows": 8
       }
      },
      "text/html": [
       "<div>\n",
       "<style scoped>\n",
       "    .dataframe tbody tr th:only-of-type {\n",
       "        vertical-align: middle;\n",
       "    }\n",
       "\n",
       "    .dataframe tbody tr th {\n",
       "        vertical-align: top;\n",
       "    }\n",
       "\n",
       "    .dataframe thead th {\n",
       "        text-align: right;\n",
       "    }\n",
       "</style>\n",
       "<table border=\"1\" class=\"dataframe\">\n",
       "  <thead>\n",
       "    <tr style=\"text-align: right;\">\n",
       "      <th></th>\n",
       "      <th>age</th>\n",
       "      <th>default</th>\n",
       "      <th>housing</th>\n",
       "      <th>loan</th>\n",
       "      <th>campaign</th>\n",
       "      <th>pdays</th>\n",
       "      <th>previous</th>\n",
       "      <th>emp.var.rate</th>\n",
       "      <th>cons.price.idx</th>\n",
       "      <th>cons.conf.idx</th>\n",
       "      <th>euribor3m</th>\n",
       "      <th>nr.employed</th>\n",
       "      <th>term_deposit</th>\n",
       "    </tr>\n",
       "  </thead>\n",
       "  <tbody>\n",
       "    <tr>\n",
       "      <th>count</th>\n",
       "      <td>41188.00000</td>\n",
       "      <td>32591.000000</td>\n",
       "      <td>40198.000000</td>\n",
       "      <td>40198.000000</td>\n",
       "      <td>41188.000000</td>\n",
       "      <td>41188.000000</td>\n",
       "      <td>41188.000000</td>\n",
       "      <td>41188.000000</td>\n",
       "      <td>41188.000000</td>\n",
       "      <td>41188.000000</td>\n",
       "      <td>41188.000000</td>\n",
       "      <td>41188.000000</td>\n",
       "      <td>41188.000000</td>\n",
       "    </tr>\n",
       "    <tr>\n",
       "      <th>mean</th>\n",
       "      <td>40.02406</td>\n",
       "      <td>0.000092</td>\n",
       "      <td>0.536743</td>\n",
       "      <td>0.155431</td>\n",
       "      <td>2.567593</td>\n",
       "      <td>962.475454</td>\n",
       "      <td>0.172963</td>\n",
       "      <td>0.081886</td>\n",
       "      <td>93.575664</td>\n",
       "      <td>-40.502600</td>\n",
       "      <td>3.621291</td>\n",
       "      <td>5167.035911</td>\n",
       "      <td>0.112654</td>\n",
       "    </tr>\n",
       "    <tr>\n",
       "      <th>std</th>\n",
       "      <td>10.42125</td>\n",
       "      <td>0.009594</td>\n",
       "      <td>0.498654</td>\n",
       "      <td>0.362319</td>\n",
       "      <td>2.770014</td>\n",
       "      <td>186.910907</td>\n",
       "      <td>0.494901</td>\n",
       "      <td>1.570960</td>\n",
       "      <td>0.578840</td>\n",
       "      <td>4.628198</td>\n",
       "      <td>1.734447</td>\n",
       "      <td>72.251528</td>\n",
       "      <td>0.316173</td>\n",
       "    </tr>\n",
       "    <tr>\n",
       "      <th>min</th>\n",
       "      <td>17.00000</td>\n",
       "      <td>0.000000</td>\n",
       "      <td>0.000000</td>\n",
       "      <td>0.000000</td>\n",
       "      <td>1.000000</td>\n",
       "      <td>0.000000</td>\n",
       "      <td>0.000000</td>\n",
       "      <td>-3.400000</td>\n",
       "      <td>92.201000</td>\n",
       "      <td>-50.800000</td>\n",
       "      <td>0.634000</td>\n",
       "      <td>4963.600000</td>\n",
       "      <td>0.000000</td>\n",
       "    </tr>\n",
       "    <tr>\n",
       "      <th>25%</th>\n",
       "      <td>32.00000</td>\n",
       "      <td>0.000000</td>\n",
       "      <td>0.000000</td>\n",
       "      <td>0.000000</td>\n",
       "      <td>1.000000</td>\n",
       "      <td>999.000000</td>\n",
       "      <td>0.000000</td>\n",
       "      <td>-1.800000</td>\n",
       "      <td>93.075000</td>\n",
       "      <td>-42.700000</td>\n",
       "      <td>1.344000</td>\n",
       "      <td>5099.100000</td>\n",
       "      <td>0.000000</td>\n",
       "    </tr>\n",
       "    <tr>\n",
       "      <th>50%</th>\n",
       "      <td>38.00000</td>\n",
       "      <td>0.000000</td>\n",
       "      <td>1.000000</td>\n",
       "      <td>0.000000</td>\n",
       "      <td>2.000000</td>\n",
       "      <td>999.000000</td>\n",
       "      <td>0.000000</td>\n",
       "      <td>1.100000</td>\n",
       "      <td>93.749000</td>\n",
       "      <td>-41.800000</td>\n",
       "      <td>4.857000</td>\n",
       "      <td>5191.000000</td>\n",
       "      <td>0.000000</td>\n",
       "    </tr>\n",
       "    <tr>\n",
       "      <th>75%</th>\n",
       "      <td>47.00000</td>\n",
       "      <td>0.000000</td>\n",
       "      <td>1.000000</td>\n",
       "      <td>0.000000</td>\n",
       "      <td>3.000000</td>\n",
       "      <td>999.000000</td>\n",
       "      <td>0.000000</td>\n",
       "      <td>1.400000</td>\n",
       "      <td>93.994000</td>\n",
       "      <td>-36.400000</td>\n",
       "      <td>4.961000</td>\n",
       "      <td>5228.100000</td>\n",
       "      <td>0.000000</td>\n",
       "    </tr>\n",
       "    <tr>\n",
       "      <th>max</th>\n",
       "      <td>98.00000</td>\n",
       "      <td>1.000000</td>\n",
       "      <td>1.000000</td>\n",
       "      <td>1.000000</td>\n",
       "      <td>56.000000</td>\n",
       "      <td>999.000000</td>\n",
       "      <td>7.000000</td>\n",
       "      <td>1.400000</td>\n",
       "      <td>94.767000</td>\n",
       "      <td>-26.900000</td>\n",
       "      <td>5.045000</td>\n",
       "      <td>5228.100000</td>\n",
       "      <td>1.000000</td>\n",
       "    </tr>\n",
       "  </tbody>\n",
       "</table>\n",
       "</div>"
      ],
      "text/plain": [
       "               age       default       housing          loan      campaign  \\\n",
       "count  41188.00000  32591.000000  40198.000000  40198.000000  41188.000000   \n",
       "mean      40.02406      0.000092      0.536743      0.155431      2.567593   \n",
       "std       10.42125      0.009594      0.498654      0.362319      2.770014   \n",
       "min       17.00000      0.000000      0.000000      0.000000      1.000000   \n",
       "25%       32.00000      0.000000      0.000000      0.000000      1.000000   \n",
       "50%       38.00000      0.000000      1.000000      0.000000      2.000000   \n",
       "75%       47.00000      0.000000      1.000000      0.000000      3.000000   \n",
       "max       98.00000      1.000000      1.000000      1.000000     56.000000   \n",
       "\n",
       "              pdays      previous  emp.var.rate  cons.price.idx  \\\n",
       "count  41188.000000  41188.000000  41188.000000    41188.000000   \n",
       "mean     962.475454      0.172963      0.081886       93.575664   \n",
       "std      186.910907      0.494901      1.570960        0.578840   \n",
       "min        0.000000      0.000000     -3.400000       92.201000   \n",
       "25%      999.000000      0.000000     -1.800000       93.075000   \n",
       "50%      999.000000      0.000000      1.100000       93.749000   \n",
       "75%      999.000000      0.000000      1.400000       93.994000   \n",
       "max      999.000000      7.000000      1.400000       94.767000   \n",
       "\n",
       "       cons.conf.idx     euribor3m   nr.employed  term_deposit  \n",
       "count   41188.000000  41188.000000  41188.000000  41188.000000  \n",
       "mean      -40.502600      3.621291   5167.035911      0.112654  \n",
       "std         4.628198      1.734447     72.251528      0.316173  \n",
       "min       -50.800000      0.634000   4963.600000      0.000000  \n",
       "25%       -42.700000      1.344000   5099.100000      0.000000  \n",
       "50%       -41.800000      4.857000   5191.000000      0.000000  \n",
       "75%       -36.400000      4.961000   5228.100000      0.000000  \n",
       "max       -26.900000      5.045000   5228.100000      1.000000  "
      ]
     },
     "execution_count": 211,
     "metadata": {},
     "output_type": "execute_result"
    }
   ],
   "source": [
    "#\n",
    "bank.describe()"
   ]
  },
  {
   "cell_type": "code",
   "execution_count": 212,
   "metadata": {},
   "outputs": [
    {
     "data": {
      "application/vnd.microsoft.datawrangler.viewer.v0+json": {
       "columns": [
        {
         "name": "job",
         "rawType": "object",
         "type": "string"
        },
        {
         "name": "proportion",
         "rawType": "float64",
         "type": "float"
        }
       ],
       "ref": "e95e4b02-4f28-472d-a133-b7478ca20ad0",
       "rows": [
        [
         "admin.",
         "25.303486452364766"
        ],
        [
         "blue-collar",
         "22.46770904146839"
        ],
        [
         "technician",
         "16.37127318636496"
        ],
        [
         "services",
         "9.636301835486064"
        ],
        [
         "management",
         "7.099155093716616"
        ],
        [
         "retired",
         "4.175973584539186"
        ],
        [
         "entrepreneur",
         "3.5350101971447994"
        ],
        [
         "self-employed",
         "3.450033990482665"
        ],
        [
         "housemaid",
         "2.5735651160532194"
        ],
        [
         "unemployed",
         "2.4618821015829853"
        ],
        [
         "student",
         "2.1244051665533648"
        ],
        [
         "unknown",
         "0.8012042342429834"
        ]
       ],
       "shape": {
        "columns": 1,
        "rows": 12
       }
      },
      "text/plain": [
       "job\n",
       "admin.           25.303486\n",
       "blue-collar      22.467709\n",
       "technician       16.371273\n",
       "services          9.636302\n",
       "management        7.099155\n",
       "retired           4.175974\n",
       "entrepreneur      3.535010\n",
       "self-employed     3.450034\n",
       "housemaid         2.573565\n",
       "unemployed        2.461882\n",
       "student           2.124405\n",
       "unknown           0.801204\n",
       "Name: proportion, dtype: float64"
      ]
     },
     "execution_count": 212,
     "metadata": {},
     "output_type": "execute_result"
    }
   ],
   "source": [
    "#Percentage of clients by job type\n",
    "bank['job'].value_counts(normalize=True) * 100"
   ]
  },
  {
   "cell_type": "code",
   "execution_count": 213,
   "metadata": {},
   "outputs": [
    {
     "data": {
      "application/vnd.microsoft.datawrangler.viewer.v0+json": {
       "columns": [
        {
         "name": "marital",
         "rawType": "object",
         "type": "string"
        },
        {
         "name": "proportion",
         "rawType": "float64",
         "type": "float"
        }
       ],
       "ref": "17cd67f8-3549-47b5-8cbe-35ed9b44f1d0",
       "rows": [
        [
         "married",
         "60.52248227639119"
        ],
        [
         "single",
         "28.085850247644945"
        ],
        [
         "divorced",
         "11.197436146450421"
        ],
        [
         "unknown",
         "0.1942313295134505"
        ]
       ],
       "shape": {
        "columns": 1,
        "rows": 4
       }
      },
      "text/plain": [
       "marital\n",
       "married     60.522482\n",
       "single      28.085850\n",
       "divorced    11.197436\n",
       "unknown      0.194231\n",
       "Name: proportion, dtype: float64"
      ]
     },
     "execution_count": 213,
     "metadata": {},
     "output_type": "execute_result"
    }
   ],
   "source": [
    "#Percentage of clients by marital status\n",
    "bank['marital'].value_counts(normalize=True) * 100"
   ]
  },
  {
   "cell_type": "code",
   "execution_count": 214,
   "metadata": {},
   "outputs": [
    {
     "data": {
      "application/vnd.microsoft.datawrangler.viewer.v0+json": {
       "columns": [
        {
         "name": "education",
         "rawType": "object",
         "type": "string"
        },
        {
         "name": "proportion",
         "rawType": "float64",
         "type": "float"
        }
       ],
       "ref": "513420d5-50bc-4ffd-b5b0-a9da27217e4f",
       "rows": [
        [
         "university.degree",
         "29.542585218995825"
        ],
        [
         "high.school",
         "23.10138875400602"
        ],
        [
         "basic.9y",
         "14.676604836360104"
        ],
        [
         "professional.course",
         "12.729435757987764"
        ],
        [
         "basic.4y",
         "10.138875400602117"
        ],
        [
         "basic.6y",
         "5.5647275905603575"
        ],
        [
         "unknown",
         "4.202680392347285"
        ],
        [
         "illiterate",
         "0.04370204914052637"
        ]
       ],
       "shape": {
        "columns": 1,
        "rows": 8
       }
      },
      "text/plain": [
       "education\n",
       "university.degree      29.542585\n",
       "high.school            23.101389\n",
       "basic.9y               14.676605\n",
       "professional.course    12.729436\n",
       "basic.4y               10.138875\n",
       "basic.6y                5.564728\n",
       "unknown                 4.202680\n",
       "illiterate              0.043702\n",
       "Name: proportion, dtype: float64"
      ]
     },
     "execution_count": 214,
     "metadata": {},
     "output_type": "execute_result"
    }
   ],
   "source": [
    "#Percentage of clients by job type\n",
    "bank['education'].value_counts(normalize=True) * 100"
   ]
  },
  {
   "cell_type": "code",
   "execution_count": 215,
   "metadata": {},
   "outputs": [
    {
     "data": {
      "image/png": "[encoded data removed]",
      "text/plain": [
       "<Figure size 640x480 with 1 Axes>"
      ]
     },
     "metadata": {},
     "output_type": "display_data"
    }
   ],
   "source": [
    "#Distribution of customer age.\n",
    "bank['age'].plot(kind='hist', bins=20)\n",
    "plt.title('Age Distribution')\n",
    "\n",
    "plt.savefig('age_distribution.png')"
   ]
  },
  {
   "cell_type": "code",
   "execution_count": 260,
   "metadata": {},
   "outputs": [
    {
     "data": {
      "image/png": "[encoded data removed]",
      "text/plain": [
       "<Figure size 1011.11x250 with 4 Axes>"
      ]
     },
     "metadata": {},
     "output_type": "display_data"
    }
   ],
   "source": [
    "#Show target by marital status\n",
    "sns.catplot(x = 'term_deposit', col='marital', kind='count',height=2.5, aspect=1, data=bank)\n",
    "plt.savefig('marital_status.png')"
   ]
  },
  {
   "cell_type": "markdown",
   "metadata": {},
   "source": [
    "#### 4. Deal with outliers\n",
    "\n",
    "Based on your answers to question 3, decide whether to drop or keep your outliers"
   ]
  },
  {
   "cell_type": "code",
   "execution_count": 219,
   "metadata": {},
   "outputs": [],
   "source": [
    "#No significant outliers found.\n"
   ]
  },
  {
   "cell_type": "markdown",
   "metadata": {},
   "source": [
    "#### 5. Investigate some of the categorical columns\n",
    "\n",
    "First, identify which columns are categorical (including binary)\n",
    "\n",
    "Investigate the breakdown of values of some of these columns. If you notice any odd values, investigate them and deal with them (either drop or keep them)."
   ]
  },
  {
   "cell_type": "code",
   "execution_count": 220,
   "metadata": {},
   "outputs": [
    {
     "name": "stdout",
     "output_type": "stream",
     "text": [
      "age                78\n",
      "job                12\n",
      "marital             4\n",
      "education           8\n",
      "default             2\n",
      "housing             2\n",
      "loan                2\n",
      "contact             2\n",
      "month              10\n",
      "day_of_week         5\n",
      "campaign           42\n",
      "pdays              27\n",
      "previous            8\n",
      "poutcome            3\n",
      "emp.var.rate       10\n",
      "cons.price.idx     26\n",
      "cons.conf.idx      26\n",
      "euribor3m         316\n",
      "nr.employed        11\n",
      "term_deposit        2\n",
      "dtype: int64\n"
     ]
    }
   ],
   "source": [
    "#Unique values by column\n",
    "\n",
    "print(bank.nunique())"
   ]
  },
  {
   "cell_type": "markdown",
   "metadata": {},
   "source": [
    "#### 6. Now explore the relationships between your potential features and the target\n",
    "\n",
    "The sorts of questions you are interested in are \"how does the distribution of our target vary across values of our features?\" - in this case \"how does the % of people who purchased the product vary by age/job/education level etc.?\"\n",
    "\n",
    "First, focus on the numeric columns.\n",
    "\n",
    "You may decide to group your continuous columns (like age) into buckets and calculate the % of people who purchased the product. A trick you can use here is that taking the average of a binary column gives you the % of 1s in that column.\n",
    "\n",
    "What do you conclude about the relationship between your columns and the likelihood of purchasing the product?"
   ]
  },
  {
   "cell_type": "code",
   "execution_count": 221,
   "metadata": {},
   "outputs": [
    {
     "name": "stdout",
     "output_type": "stream",
     "text": [
      "term_deposit\n",
      "0    88.734583\n",
      "1    11.265417\n",
      "Name: proportion, dtype: float64\n"
     ]
    },
    {
     "data": {
      "image/png": "[encoded data removed]",
      "text/plain": [
       "<Figure size 640x480 with 1 Axes>"
      ]
     },
     "metadata": {},
     "output_type": "display_data"
    }
   ],
   "source": [
    "#Percentage of people who have a term_deposit. 11% of contacted customers got the product. This is an imbalanced dataset.\n",
    "\n",
    "print(bank['term_deposit'].value_counts(normalize=True) * 100)\n",
    "\n",
    "sns.countplot(x='term_deposit', data=bank)\n",
    "plt.title('Total Subscribers')\n",
    "plt.savefig('deposit_subscribers.png')"
   ]
  },
  {
   "cell_type": "code",
   "execution_count": 222,
   "metadata": {},
   "outputs": [
    {
     "name": "stderr",
     "output_type": "stream",
     "text": [
      "/var/folders/54/_867m59s07dcpb6y_rqmphr00000gn/T/ipykernel_21571/972880678.py:9: FutureWarning: The default of observed=False is deprecated and will be changed to True in a future version of pandas. Pass observed=False to retain current behavior or observed=True to adopt the future default and silence this warning.\n",
      "  age_group = bank.groupby(by='age_group').term_deposit.mean() * 100\n"
     ]
    },
    {
     "data": {
      "application/vnd.microsoft.datawrangler.viewer.v0+json": {
       "columns": [
        {
         "name": "index",
         "rawType": "int64",
         "type": "integer"
        },
        {
         "name": "age_group",
         "rawType": "category",
         "type": "unknown"
        },
        {
         "name": "term_deposit",
         "rawType": "float64",
         "type": "float"
        }
       ],
       "ref": "41ec2292-08c8-45be-8619-e6befe0f4d89",
       "rows": [
        [
         "0",
         "<25",
         "20.948379351740694"
        ],
        [
         "1",
         "26-35",
         "11.719539300868863"
        ],
        [
         "2",
         "36-45",
         "8.509810028028651"
        ],
        [
         "3",
         "46-55",
         "8.691962662140867"
        ],
        [
         "4",
         "56-65",
         "15.22105973675329"
        ],
        [
         "5",
         "65+",
         "46.849757673667206"
        ]
       ],
       "shape": {
        "columns": 2,
        "rows": 6
       }
      },
      "text/html": [
       "<div>\n",
       "<style scoped>\n",
       "    .dataframe tbody tr th:only-of-type {\n",
       "        vertical-align: middle;\n",
       "    }\n",
       "\n",
       "    .dataframe tbody tr th {\n",
       "        vertical-align: top;\n",
       "    }\n",
       "\n",
       "    .dataframe thead th {\n",
       "        text-align: right;\n",
       "    }\n",
       "</style>\n",
       "<table border=\"1\" class=\"dataframe\">\n",
       "  <thead>\n",
       "    <tr style=\"text-align: right;\">\n",
       "      <th></th>\n",
       "      <th>age_group</th>\n",
       "      <th>term_deposit</th>\n",
       "    </tr>\n",
       "  </thead>\n",
       "  <tbody>\n",
       "    <tr>\n",
       "      <th>0</th>\n",
       "      <td>&lt;25</td>\n",
       "      <td>20.948379</td>\n",
       "    </tr>\n",
       "    <tr>\n",
       "      <th>1</th>\n",
       "      <td>26-35</td>\n",
       "      <td>11.719539</td>\n",
       "    </tr>\n",
       "    <tr>\n",
       "      <th>2</th>\n",
       "      <td>36-45</td>\n",
       "      <td>8.509810</td>\n",
       "    </tr>\n",
       "    <tr>\n",
       "      <th>3</th>\n",
       "      <td>46-55</td>\n",
       "      <td>8.691963</td>\n",
       "    </tr>\n",
       "    <tr>\n",
       "      <th>4</th>\n",
       "      <td>56-65</td>\n",
       "      <td>15.221060</td>\n",
       "    </tr>\n",
       "    <tr>\n",
       "      <th>5</th>\n",
       "      <td>65+</td>\n",
       "      <td>46.849758</td>\n",
       "    </tr>\n",
       "  </tbody>\n",
       "</table>\n",
       "</div>"
      ],
      "text/plain": [
       "  age_group  term_deposit\n",
       "0       <25     20.948379\n",
       "1     26-35     11.719539\n",
       "2     36-45      8.509810\n",
       "3     46-55      8.691963\n",
       "4     56-65     15.221060\n",
       "5       65+     46.849758"
      ]
     },
     "execution_count": 222,
     "metadata": {},
     "output_type": "execute_result"
    }
   ],
   "source": [
    "# Create age group bins\n",
    "bank['age_group'] = pd.cut(\n",
    "    bank['age'],\n",
    "    bins=[0, 25, 35, 45, 55, 65, 100],  # Define bin edges\n",
    "    labels=['<25', '26-35', '36-45', '46-55', '56-65', '65+']  # Labels for each bin\n",
    ")\n",
    "\n",
    "# Percentage of Term deposits by Age group\n",
    "age_group = bank.groupby(by='age_group').term_deposit.mean() * 100\n",
    "age_group_df = age_group.reset_index()\n",
    "age_group_df"
   ]
  },
  {
   "cell_type": "code",
   "execution_count": 223,
   "metadata": {},
   "outputs": [
    {
     "data": {
      "image/png": "[encoded data removed]",
      "text/plain": [
       "<Figure size 800x500 with 1 Axes>"
      ]
     },
     "metadata": {},
     "output_type": "display_data"
    }
   ],
   "source": [
    "plt.figure(figsize=(8, 5))\n",
    "plt.bar(age_group_df['age_group'], age_group_df['term_deposit'])\n",
    "\n",
    "\n",
    "plt.title('Age Group with Term Deposit')\n",
    "plt.xlabel('Age Group')\n",
    "plt.ylabel('% Subscribed')\n",
    "plt.savefig('subscriber_age_group.png')"
   ]
  },
  {
   "cell_type": "code",
   "execution_count": 224,
   "metadata": {},
   "outputs": [
    {
     "data": {
      "text/plain": [
       "Text(0, 0.5, 'Frequency')"
      ]
     },
     "execution_count": 224,
     "metadata": {},
     "output_type": "execute_result"
    },
    {
     "data": {
      "image/png": "[encoded data removed]",
      "text/plain": [
       "<Figure size 640x480 with 1 Axes>"
      ]
     },
     "metadata": {},
     "output_type": "display_data"
    }
   ],
   "source": [
    "bank[bank['term_deposit'] == 1]['age'].plot(kind='hist', bins=20, title= 'Age Distribution of Customer with Term Deposit')\n",
    "\n",
    "plt.xlabel('Age')\n",
    "plt.ylabel('Frequency')\n"
   ]
  },
  {
   "cell_type": "code",
   "execution_count": 225,
   "metadata": {},
   "outputs": [
    {
     "data": {
      "application/vnd.microsoft.datawrangler.viewer.v0+json": {
       "columns": [
        {
         "name": "default",
         "rawType": "float64",
         "type": "float"
        },
        {
         "name": "term_deposit",
         "rawType": "float64",
         "type": "float"
        }
       ],
       "ref": "7b493006-942f-448b-9260-65aa76c1fec7",
       "rows": [
        [
         "0.0",
         "12.878973855406898"
        ],
        [
         "1.0",
         "0.0"
        ]
       ],
       "shape": {
        "columns": 1,
        "rows": 2
       }
      },
      "text/plain": [
       "default\n",
       "0.0    12.878974\n",
       "1.0     0.000000\n",
       "Name: term_deposit, dtype: float64"
      ]
     },
     "execution_count": 225,
     "metadata": {},
     "output_type": "execute_result"
    }
   ],
   "source": [
    "#Percentage of term deposits by people with loan defaults. \n",
    "bank.groupby(by='default').term_deposit.mean() * 100"
   ]
  },
  {
   "cell_type": "code",
   "execution_count": 226,
   "metadata": {},
   "outputs": [
    {
     "data": {
      "application/vnd.microsoft.datawrangler.viewer.v0+json": {
       "columns": [
        {
         "name": "default",
         "rawType": "object",
         "type": "unknown"
        },
        {
         "name": "term_deposit",
         "rawType": "float64",
         "type": "float"
        }
       ],
       "ref": "67bc00d1-ac38-495d-be95-3ffd289b9471",
       "rows": [
        [
         "0.0",
         "12.878973855406898"
        ],
        [
         "1.0",
         "0.0"
        ],
        [
         "unknown",
         "5.152960335000581"
        ]
       ],
       "shape": {
        "columns": 1,
        "rows": 3
       }
      },
      "text/plain": [
       "default\n",
       "0.0        12.878974\n",
       "1.0         0.000000\n",
       "unknown     5.152960\n",
       "Name: term_deposit, dtype: float64"
      ]
     },
     "execution_count": 226,
     "metadata": {},
     "output_type": "execute_result"
    }
   ],
   "source": [
    "# Filled null values in 'default' column with new category 'unknown' to be able to use this feature in the model. \n",
    "#This column had presented over 8,000 null values, however, it is a strong predictor as no customer with loan defaults subscribed to the term deposit.\n",
    "bank['default'] = bank['default'].fillna('unknown')\n",
    "bank.groupby(by='default').term_deposit.mean() * 100\n"
   ]
  },
  {
   "cell_type": "code",
   "execution_count": 227,
   "metadata": {},
   "outputs": [
    {
     "data": {
      "application/vnd.microsoft.datawrangler.viewer.v0+json": {
       "columns": [
        {
         "name": "loan",
         "rawType": "float64",
         "type": "float"
        },
        {
         "name": "term_deposit",
         "rawType": "float64",
         "type": "float"
        }
       ],
       "ref": "e59f705f-638e-46ce-a706-2f36bf1624d9",
       "rows": [
        [
         "0.0",
         "11.34020618556701"
        ],
        [
         "1.0",
         "10.931498079385403"
        ]
       ],
       "shape": {
        "columns": 1,
        "rows": 2
       }
      },
      "text/plain": [
       "loan\n",
       "0.0    11.340206\n",
       "1.0    10.931498\n",
       "Name: term_deposit, dtype: float64"
      ]
     },
     "execution_count": 227,
     "metadata": {},
     "output_type": "execute_result"
    }
   ],
   "source": [
    "# Percentage of term deposits by people with active personal loans. No clear correlation\n",
    "bank.groupby(by='loan').term_deposit.mean() * 100"
   ]
  },
  {
   "cell_type": "code",
   "execution_count": 228,
   "metadata": {},
   "outputs": [
    {
     "data": {
      "application/vnd.microsoft.datawrangler.viewer.v0+json": {
       "columns": [
        {
         "name": "housing",
         "rawType": "float64",
         "type": "float"
        },
        {
         "name": "term_deposit",
         "rawType": "float64",
         "type": "float"
        }
       ],
       "ref": "62b2df73-abce-4dbd-8ccd-d37de35b5cec",
       "rows": [
        [
         "0.0",
         "10.879604768553323"
        ],
        [
         "1.0",
         "11.619391916944753"
        ]
       ],
       "shape": {
        "columns": 1,
        "rows": 2
       }
      },
      "text/plain": [
       "housing\n",
       "0.0    10.879605\n",
       "1.0    11.619392\n",
       "Name: term_deposit, dtype: float64"
      ]
     },
     "execution_count": 228,
     "metadata": {},
     "output_type": "execute_result"
    }
   ],
   "source": [
    "#Percentage of term deposits by people with an active mortgage. No clear correlation\n",
    "bank.groupby(by='housing').term_deposit.mean() * 100"
   ]
  },
  {
   "cell_type": "code",
   "execution_count": 229,
   "metadata": {},
   "outputs": [
    {
     "data": {
      "application/vnd.microsoft.datawrangler.viewer.v0+json": {
       "columns": [
        {
         "name": "index",
         "rawType": "object",
         "type": "string"
        },
        {
         "name": "age",
         "rawType": "int64",
         "type": "integer"
        },
        {
         "name": "job",
         "rawType": "object",
         "type": "string"
        },
        {
         "name": "marital",
         "rawType": "object",
         "type": "string"
        },
        {
         "name": "education",
         "rawType": "object",
         "type": "string"
        },
        {
         "name": "default",
         "rawType": "object",
         "type": "unknown"
        },
        {
         "name": "housing",
         "rawType": "float64",
         "type": "float"
        },
        {
         "name": "loan",
         "rawType": "float64",
         "type": "float"
        },
        {
         "name": "contact",
         "rawType": "object",
         "type": "string"
        },
        {
         "name": "month",
         "rawType": "object",
         "type": "string"
        },
        {
         "name": "day_of_week",
         "rawType": "object",
         "type": "string"
        },
        {
         "name": "campaign",
         "rawType": "int64",
         "type": "integer"
        },
        {
         "name": "pdays",
         "rawType": "int64",
         "type": "integer"
        },
        {
         "name": "previous",
         "rawType": "int64",
         "type": "integer"
        },
        {
         "name": "poutcome",
         "rawType": "object",
         "type": "string"
        },
        {
         "name": "emp.var.rate",
         "rawType": "float64",
         "type": "float"
        },
        {
         "name": "cons.price.idx",
         "rawType": "float64",
         "type": "float"
        },
        {
         "name": "cons.conf.idx",
         "rawType": "float64",
         "type": "float"
        },
        {
         "name": "euribor3m",
         "rawType": "float64",
         "type": "float"
        },
        {
         "name": "nr.employed",
         "rawType": "float64",
         "type": "float"
        },
        {
         "name": "term_deposit",
         "rawType": "int64",
         "type": "integer"
        },
        {
         "name": "age_group",
         "rawType": "category",
         "type": "unknown"
        }
       ],
       "ref": "23089454-b694-463e-a0ad-9f591c61224e",
       "rows": [
        [
         "0",
         "56",
         "housemaid",
         "married",
         "basic.4y",
         "0.0",
         "0.0",
         "0.0",
         "telephone",
         "may",
         "mon",
         "1",
         "999",
         "0",
         "nonexistent",
         "1.1",
         "93.994",
         "-36.4",
         "4.857",
         "5191.0",
         "0",
         "56-65"
        ],
        [
         "1",
         "57",
         "services",
         "married",
         "high.school",
         "unknown",
         "0.0",
         "0.0",
         "telephone",
         "may",
         "mon",
         "1",
         "999",
         "0",
         "nonexistent",
         "1.1",
         "93.994",
         "-36.4",
         "4.857",
         "5191.0",
         "0",
         "56-65"
        ],
        [
         "2",
         "37",
         "services",
         "married",
         "high.school",
         "0.0",
         "1.0",
         "0.0",
         "telephone",
         "may",
         "mon",
         "1",
         "999",
         "0",
         "nonexistent",
         "1.1",
         "93.994",
         "-36.4",
         "4.857",
         "5191.0",
         "0",
         "36-45"
        ],
        [
         "3",
         "40",
         "admin.",
         "married",
         "basic.6y",
         "0.0",
         "0.0",
         "0.0",
         "telephone",
         "may",
         "mon",
         "1",
         "999",
         "0",
         "nonexistent",
         "1.1",
         "93.994",
         "-36.4",
         "4.857",
         "5191.0",
         "0",
         "36-45"
        ],
        [
         "4",
         "56",
         "services",
         "married",
         "high.school",
         "0.0",
         "0.0",
         "1.0",
         "telephone",
         "may",
         "mon",
         "1",
         "999",
         "0",
         "nonexistent",
         "1.1",
         "93.994",
         "-36.4",
         "4.857",
         "5191.0",
         "0",
         "56-65"
        ]
       ],
       "shape": {
        "columns": 21,
        "rows": 5
       }
      },
      "text/html": [
       "<div>\n",
       "<style scoped>\n",
       "    .dataframe tbody tr th:only-of-type {\n",
       "        vertical-align: middle;\n",
       "    }\n",
       "\n",
       "    .dataframe tbody tr th {\n",
       "        vertical-align: top;\n",
       "    }\n",
       "\n",
       "    .dataframe thead th {\n",
       "        text-align: right;\n",
       "    }\n",
       "</style>\n",
       "<table border=\"1\" class=\"dataframe\">\n",
       "  <thead>\n",
       "    <tr style=\"text-align: right;\">\n",
       "      <th></th>\n",
       "      <th>age</th>\n",
       "      <th>job</th>\n",
       "      <th>marital</th>\n",
       "      <th>education</th>\n",
       "      <th>default</th>\n",
       "      <th>housing</th>\n",
       "      <th>loan</th>\n",
       "      <th>contact</th>\n",
       "      <th>month</th>\n",
       "      <th>day_of_week</th>\n",
       "      <th>...</th>\n",
       "      <th>pdays</th>\n",
       "      <th>previous</th>\n",
       "      <th>poutcome</th>\n",
       "      <th>emp.var.rate</th>\n",
       "      <th>cons.price.idx</th>\n",
       "      <th>cons.conf.idx</th>\n",
       "      <th>euribor3m</th>\n",
       "      <th>nr.employed</th>\n",
       "      <th>term_deposit</th>\n",
       "      <th>age_group</th>\n",
       "    </tr>\n",
       "  </thead>\n",
       "  <tbody>\n",
       "    <tr>\n",
       "      <th>0</th>\n",
       "      <td>56</td>\n",
       "      <td>housemaid</td>\n",
       "      <td>married</td>\n",
       "      <td>basic.4y</td>\n",
       "      <td>0.0</td>\n",
       "      <td>0.0</td>\n",
       "      <td>0.0</td>\n",
       "      <td>telephone</td>\n",
       "      <td>may</td>\n",
       "      <td>mon</td>\n",
       "      <td>...</td>\n",
       "      <td>999</td>\n",
       "      <td>0</td>\n",
       "      <td>nonexistent</td>\n",
       "      <td>1.1</td>\n",
       "      <td>93.994</td>\n",
       "      <td>-36.4</td>\n",
       "      <td>4.857</td>\n",
       "      <td>5191.0</td>\n",
       "      <td>0</td>\n",
       "      <td>56-65</td>\n",
       "    </tr>\n",
       "    <tr>\n",
       "      <th>1</th>\n",
       "      <td>57</td>\n",
       "      <td>services</td>\n",
       "      <td>married</td>\n",
       "      <td>high.school</td>\n",
       "      <td>unknown</td>\n",
       "      <td>0.0</td>\n",
       "      <td>0.0</td>\n",
       "      <td>telephone</td>\n",
       "      <td>may</td>\n",
       "      <td>mon</td>\n",
       "      <td>...</td>\n",
       "      <td>999</td>\n",
       "      <td>0</td>\n",
       "      <td>nonexistent</td>\n",
       "      <td>1.1</td>\n",
       "      <td>93.994</td>\n",
       "      <td>-36.4</td>\n",
       "      <td>4.857</td>\n",
       "      <td>5191.0</td>\n",
       "      <td>0</td>\n",
       "      <td>56-65</td>\n",
       "    </tr>\n",
       "    <tr>\n",
       "      <th>2</th>\n",
       "      <td>37</td>\n",
       "      <td>services</td>\n",
       "      <td>married</td>\n",
       "      <td>high.school</td>\n",
       "      <td>0.0</td>\n",
       "      <td>1.0</td>\n",
       "      <td>0.0</td>\n",
       "      <td>telephone</td>\n",
       "      <td>may</td>\n",
       "      <td>mon</td>\n",
       "      <td>...</td>\n",
       "      <td>999</td>\n",
       "      <td>0</td>\n",
       "      <td>nonexistent</td>\n",
       "      <td>1.1</td>\n",
       "      <td>93.994</td>\n",
       "      <td>-36.4</td>\n",
       "      <td>4.857</td>\n",
       "      <td>5191.0</td>\n",
       "      <td>0</td>\n",
       "      <td>36-45</td>\n",
       "    </tr>\n",
       "    <tr>\n",
       "      <th>3</th>\n",
       "      <td>40</td>\n",
       "      <td>admin.</td>\n",
       "      <td>married</td>\n",
       "      <td>basic.6y</td>\n",
       "      <td>0.0</td>\n",
       "      <td>0.0</td>\n",
       "      <td>0.0</td>\n",
       "      <td>telephone</td>\n",
       "      <td>may</td>\n",
       "      <td>mon</td>\n",
       "      <td>...</td>\n",
       "      <td>999</td>\n",
       "      <td>0</td>\n",
       "      <td>nonexistent</td>\n",
       "      <td>1.1</td>\n",
       "      <td>93.994</td>\n",
       "      <td>-36.4</td>\n",
       "      <td>4.857</td>\n",
       "      <td>5191.0</td>\n",
       "      <td>0</td>\n",
       "      <td>36-45</td>\n",
       "    </tr>\n",
       "    <tr>\n",
       "      <th>4</th>\n",
       "      <td>56</td>\n",
       "      <td>services</td>\n",
       "      <td>married</td>\n",
       "      <td>high.school</td>\n",
       "      <td>0.0</td>\n",
       "      <td>0.0</td>\n",
       "      <td>1.0</td>\n",
       "      <td>telephone</td>\n",
       "      <td>may</td>\n",
       "      <td>mon</td>\n",
       "      <td>...</td>\n",
       "      <td>999</td>\n",
       "      <td>0</td>\n",
       "      <td>nonexistent</td>\n",
       "      <td>1.1</td>\n",
       "      <td>93.994</td>\n",
       "      <td>-36.4</td>\n",
       "      <td>4.857</td>\n",
       "      <td>5191.0</td>\n",
       "      <td>0</td>\n",
       "      <td>56-65</td>\n",
       "    </tr>\n",
       "  </tbody>\n",
       "</table>\n",
       "<p>5 rows × 21 columns</p>\n",
       "</div>"
      ],
      "text/plain": [
       "   age        job  marital    education  default  housing  loan    contact  \\\n",
       "0   56  housemaid  married     basic.4y      0.0      0.0   0.0  telephone   \n",
       "1   57   services  married  high.school  unknown      0.0   0.0  telephone   \n",
       "2   37   services  married  high.school      0.0      1.0   0.0  telephone   \n",
       "3   40     admin.  married     basic.6y      0.0      0.0   0.0  telephone   \n",
       "4   56   services  married  high.school      0.0      0.0   1.0  telephone   \n",
       "\n",
       "  month day_of_week  ...  pdays  previous     poutcome emp.var.rate  \\\n",
       "0   may         mon  ...    999         0  nonexistent          1.1   \n",
       "1   may         mon  ...    999         0  nonexistent          1.1   \n",
       "2   may         mon  ...    999         0  nonexistent          1.1   \n",
       "3   may         mon  ...    999         0  nonexistent          1.1   \n",
       "4   may         mon  ...    999         0  nonexistent          1.1   \n",
       "\n",
       "   cons.price.idx  cons.conf.idx  euribor3m  nr.employed  term_deposit  \\\n",
       "0          93.994          -36.4      4.857       5191.0             0   \n",
       "1          93.994          -36.4      4.857       5191.0             0   \n",
       "2          93.994          -36.4      4.857       5191.0             0   \n",
       "3          93.994          -36.4      4.857       5191.0             0   \n",
       "4          93.994          -36.4      4.857       5191.0             0   \n",
       "\n",
       "   age_group  \n",
       "0      56-65  \n",
       "1      56-65  \n",
       "2      36-45  \n",
       "3      36-45  \n",
       "4      56-65  \n",
       "\n",
       "[5 rows x 21 columns]"
      ]
     },
     "execution_count": 229,
     "metadata": {},
     "output_type": "execute_result"
    }
   ],
   "source": [
    "bank.head()"
   ]
  },
  {
   "cell_type": "markdown",
   "metadata": {},
   "source": [
    "#### 7. Now investigate the relationship between the categorical variables and the target\n",
    "\n",
    "First, identify which columns in the data are categorical.\n",
    "\n",
    "The question we care about again is \"how does the % of customers who bought the product vary among different jobs/education levels etc.?\""
   ]
  },
  {
   "cell_type": "code",
   "execution_count": 259,
   "metadata": {},
   "outputs": [
    {
     "name": "stdout",
     "output_type": "stream",
     "text": [
      "marital\n",
      "unknown     15.000000\n",
      "single      14.004149\n",
      "divorced    10.320902\n",
      "married     10.157253\n",
      "Name: term_deposit, dtype: float64\n"
     ]
    },
    {
     "data": {
      "image/png": "[encoded data removed]",
      "text/plain": [
       "<Figure size 1011.11x250 with 4 Axes>"
      ]
     },
     "metadata": {},
     "output_type": "display_data"
    }
   ],
   "source": [
    "#Percentage of term deposits by marital status. Appears to be correlated.\n",
    "\n",
    "print(bank.groupby(by='marital').term_deposit.mean().sort_values(ascending=False) * 100)\n",
    "\n",
    "#Show target by marital status\n",
    "sns.catplot(x = 'term_deposit', col='marital', kind='count',height=2.5, aspect=1, data=bank)\n",
    "plt.savefig('marital_status.png')"
   ]
  },
  {
   "cell_type": "code",
   "execution_count": null,
   "metadata": {},
   "outputs": [
    {
     "name": "stdout",
     "output_type": "stream",
     "text": [
      "education\n",
      "illiterate             22.222222\n",
      "unknown                14.500289\n",
      "university.degree      13.724523\n",
      "professional.course    11.348465\n",
      "high.school            10.835523\n",
      "basic.4y               10.249042\n",
      "basic.6y                8.202443\n",
      "basic.9y                7.824648\n",
      "Name: term_deposit, dtype: float64\n"
     ]
    },
    {
     "data": {
      "image/png": "[encoded data removed]",
      "text/plain": [
       "<Figure size 1011.11x500 with 8 Axes>"
      ]
     },
     "metadata": {},
     "output_type": "display_data"
    }
   ],
   "source": [
    "#Percentage of term deposits by job education. \n",
    "\n",
    "print(bank.groupby(by='education').term_deposit.mean().sort_values(ascending=False) * 100)\n",
    "\n",
    "sns.catplot(x = 'term_deposit', col='education', col_wrap=4, kind='count', height=2.5, aspect=1, data=bank)\n",
    "plt.savefig('education.png')"
   ]
  },
  {
   "cell_type": "code",
   "execution_count": 262,
   "metadata": {},
   "outputs": [
    {
     "name": "stdout",
     "output_type": "stream",
     "text": [
      "job\n",
      "student          31.428571\n",
      "retired          25.232558\n",
      "unemployed       14.201183\n",
      "admin.           12.972558\n",
      "management       11.217510\n",
      "unknown          11.212121\n",
      "technician       10.826042\n",
      "self-employed    10.485574\n",
      "housemaid        10.000000\n",
      "entrepreneur      8.516484\n",
      "services          8.138070\n",
      "blue-collar       6.894316\n",
      "Name: term_deposit, dtype: float64\n"
     ]
    },
    {
     "data": {
      "image/png": "[encoded data removed]",
      "text/plain": [
       "<Figure size 1011.11x750 with 12 Axes>"
      ]
     },
     "metadata": {},
     "output_type": "display_data"
    }
   ],
   "source": [
    "#Percentage of term deposits by job category. Appears to be correlated.\n",
    "\n",
    "print(bank.groupby(by='job').term_deposit.mean().sort_values(ascending=False) * 100)\n",
    "\n",
    "sns.catplot(x = 'term_deposit', col='job', col_wrap=4, kind='count',height=2.5, aspect=1, data=bank)\n",
    "plt.savefig('jobs.png')"
   ]
  },
  {
   "cell_type": "code",
   "execution_count": 233,
   "metadata": {},
   "outputs": [
    {
     "data": {
      "application/vnd.microsoft.datawrangler.viewer.v0+json": {
       "columns": [
        {
         "name": "month",
         "rawType": "object",
         "type": "string"
        },
        {
         "name": "term_deposit",
         "rawType": "float64",
         "type": "float"
        }
       ],
       "ref": "9dd1a48e-2f1e-4587-aa88-80a60fef13eb",
       "rows": [
        [
         "mar",
         "50.54945054945055"
        ],
        [
         "apr",
         "20.47872340425532"
        ],
        [
         "may",
         "6.434744716391895"
        ],
        [
         "jun",
         "10.511470477623167"
        ],
        [
         "jul",
         "9.046557011430165"
        ],
        [
         "aug",
         "10.60213661379087"
        ],
        [
         "sep",
         "44.91228070175438"
        ],
        [
         "oct",
         "43.871866295264624"
        ],
        [
         "nov",
         "10.14386734942697"
        ],
        [
         "dec",
         "48.9010989010989"
        ]
       ],
       "shape": {
        "columns": 1,
        "rows": 10
       }
      },
      "text/plain": [
       "month\n",
       "mar    50.549451\n",
       "apr    20.478723\n",
       "may     6.434745\n",
       "jun    10.511470\n",
       "jul     9.046557\n",
       "aug    10.602137\n",
       "sep    44.912281\n",
       "oct    43.871866\n",
       "nov    10.143867\n",
       "dec    48.901099\n",
       "Name: term_deposit, dtype: float64"
      ]
     },
     "execution_count": 233,
     "metadata": {},
     "output_type": "execute_result"
    }
   ],
   "source": [
    "#Percentage of term deposits subcribers by month. \n",
    "month = bank.groupby(by='month').term_deposit.mean() * 100\n",
    "month_order = ['mar', 'apr', 'may', 'jun', 'jul', 'aug', 'sep', 'oct', 'nov', 'dec']\n",
    "month_clean = month.reindex(month_order)\n",
    "month_clean"
   ]
  },
  {
   "cell_type": "code",
   "execution_count": 283,
   "metadata": {},
   "outputs": [
    {
     "data": {
      "image/png": "[encoded data removed]",
      "text/plain": [
       "<Figure size 600x400 with 1 Axes>"
      ]
     },
     "metadata": {},
     "output_type": "display_data"
    }
   ],
   "source": [
    "# month_term_count = bank.groupby('month')['term_deposit'].sum().sort_values()\n",
    "# month_contacts = bank.groupby('month').value_counts()\n",
    "month_summary = pd.DataFrame({'term_deposits': bank.groupby('month')['term_deposit'].sum(),\n",
    "                              'contacts': bank.groupby('month').size()}).sort_values('contacts')\n",
    "\n",
    "month_summary.plot(kind='bar', figsize=(6, 4))\n",
    "\n",
    "plt.title('Monthly Contacts and Term Deposits')\n",
    "plt.xlabel('Month')\n",
    "plt.ylabel('Count')\n",
    "plt.xticks(rotation=45)\n",
    "plt.tight_layout()\n",
    "plt.savefig('month_contact_term_deposit')\n"
   ]
  },
  {
   "cell_type": "code",
   "execution_count": 235,
   "metadata": {},
   "outputs": [
    {
     "data": {
      "text/plain": [
       "<Axes: xlabel='month'>"
      ]
     },
     "execution_count": 235,
     "metadata": {},
     "output_type": "execute_result"
    },
    {
     "data": {
      "image/png": "[encoded data removed]",
      "text/plain": [
       "<Figure size 600x200 with 1 Axes>"
      ]
     },
     "metadata": {},
     "output_type": "display_data"
    }
   ],
   "source": [
    "month_clean.plot(kind='line', figsize=(6,2), marker='o')"
   ]
  },
  {
   "cell_type": "code",
   "execution_count": 236,
   "metadata": {},
   "outputs": [
    {
     "data": {
      "application/vnd.microsoft.datawrangler.viewer.v0+json": {
       "columns": [
        {
         "name": "day_of_week",
         "rawType": "object",
         "type": "string"
        },
        {
         "name": "term_deposit",
         "rawType": "float64",
         "type": "float"
        }
       ],
       "ref": "2039a30e-403f-4a00-a5ed-788185b44892",
       "rows": [
        [
         "mon",
         "9.948320413436692"
        ],
        [
         "tue",
         "11.779975278121137"
        ],
        [
         "wed",
         "11.667076469141874"
        ],
        [
         "thu",
         "12.118752174417256"
        ],
        [
         "fri",
         "10.80873898045228"
        ]
       ],
       "shape": {
        "columns": 1,
        "rows": 5
       }
      },
      "text/plain": [
       "day_of_week\n",
       "mon     9.948320\n",
       "tue    11.779975\n",
       "wed    11.667076\n",
       "thu    12.118752\n",
       "fri    10.808739\n",
       "Name: term_deposit, dtype: float64"
      ]
     },
     "execution_count": 236,
     "metadata": {},
     "output_type": "execute_result"
    }
   ],
   "source": [
    "day = bank.groupby(by='day_of_week').term_deposit.mean() * 100\n",
    "day\n",
    "day_order = ['mon', 'tue', 'wed', 'thu', 'fri']\n",
    "weekday = day.reindex(day_order)\n",
    "weekday"
   ]
  },
  {
   "cell_type": "code",
   "execution_count": 237,
   "metadata": {},
   "outputs": [
    {
     "data": {
      "application/vnd.microsoft.datawrangler.viewer.v0+json": {
       "columns": [
        {
         "name": "index",
         "rawType": "object",
         "type": "string"
        },
        {
         "name": "age",
         "rawType": "int64",
         "type": "integer"
        },
        {
         "name": "job",
         "rawType": "object",
         "type": "string"
        },
        {
         "name": "marital",
         "rawType": "object",
         "type": "string"
        },
        {
         "name": "education",
         "rawType": "object",
         "type": "string"
        },
        {
         "name": "default",
         "rawType": "object",
         "type": "unknown"
        },
        {
         "name": "housing",
         "rawType": "float64",
         "type": "float"
        },
        {
         "name": "loan",
         "rawType": "float64",
         "type": "float"
        },
        {
         "name": "contact",
         "rawType": "object",
         "type": "string"
        },
        {
         "name": "month",
         "rawType": "object",
         "type": "string"
        },
        {
         "name": "day_of_week",
         "rawType": "object",
         "type": "string"
        },
        {
         "name": "campaign",
         "rawType": "int64",
         "type": "integer"
        },
        {
         "name": "pdays",
         "rawType": "int64",
         "type": "integer"
        },
        {
         "name": "previous",
         "rawType": "int64",
         "type": "integer"
        },
        {
         "name": "poutcome",
         "rawType": "object",
         "type": "string"
        },
        {
         "name": "emp.var.rate",
         "rawType": "float64",
         "type": "float"
        },
        {
         "name": "cons.price.idx",
         "rawType": "float64",
         "type": "float"
        },
        {
         "name": "cons.conf.idx",
         "rawType": "float64",
         "type": "float"
        },
        {
         "name": "euribor3m",
         "rawType": "float64",
         "type": "float"
        },
        {
         "name": "nr.employed",
         "rawType": "float64",
         "type": "float"
        },
        {
         "name": "term_deposit",
         "rawType": "int64",
         "type": "integer"
        },
        {
         "name": "age_group",
         "rawType": "category",
         "type": "unknown"
        }
       ],
       "ref": "cefdbb1a-7be7-4862-82d4-c6116ed888a6",
       "rows": [
        [
         "0",
         "56",
         "housemaid",
         "married",
         "basic.4y",
         "0.0",
         "0.0",
         "0.0",
         "telephone",
         "may",
         "mon",
         "1",
         "999",
         "0",
         "nonexistent",
         "1.1",
         "93.994",
         "-36.4",
         "4.857",
         "5191.0",
         "0",
         "56-65"
        ],
        [
         "1",
         "57",
         "services",
         "married",
         "high.school",
         "unknown",
         "0.0",
         "0.0",
         "telephone",
         "may",
         "mon",
         "1",
         "999",
         "0",
         "nonexistent",
         "1.1",
         "93.994",
         "-36.4",
         "4.857",
         "5191.0",
         "0",
         "56-65"
        ],
        [
         "2",
         "37",
         "services",
         "married",
         "high.school",
         "0.0",
         "1.0",
         "0.0",
         "telephone",
         "may",
         "mon",
         "1",
         "999",
         "0",
         "nonexistent",
         "1.1",
         "93.994",
         "-36.4",
         "4.857",
         "5191.0",
         "0",
         "36-45"
        ],
        [
         "3",
         "40",
         "admin.",
         "married",
         "basic.6y",
         "0.0",
         "0.0",
         "0.0",
         "telephone",
         "may",
         "mon",
         "1",
         "999",
         "0",
         "nonexistent",
         "1.1",
         "93.994",
         "-36.4",
         "4.857",
         "5191.0",
         "0",
         "36-45"
        ],
        [
         "4",
         "56",
         "services",
         "married",
         "high.school",
         "0.0",
         "0.0",
         "1.0",
         "telephone",
         "may",
         "mon",
         "1",
         "999",
         "0",
         "nonexistent",
         "1.1",
         "93.994",
         "-36.4",
         "4.857",
         "5191.0",
         "0",
         "56-65"
        ]
       ],
       "shape": {
        "columns": 21,
        "rows": 5
       }
      },
      "text/html": [
       "<div>\n",
       "<style scoped>\n",
       "    .dataframe tbody tr th:only-of-type {\n",
       "        vertical-align: middle;\n",
       "    }\n",
       "\n",
       "    .dataframe tbody tr th {\n",
       "        vertical-align: top;\n",
       "    }\n",
       "\n",
       "    .dataframe thead th {\n",
       "        text-align: right;\n",
       "    }\n",
       "</style>\n",
       "<table border=\"1\" class=\"dataframe\">\n",
       "  <thead>\n",
       "    <tr style=\"text-align: right;\">\n",
       "      <th></th>\n",
       "      <th>age</th>\n",
       "      <th>job</th>\n",
       "      <th>marital</th>\n",
       "      <th>education</th>\n",
       "      <th>default</th>\n",
       "      <th>housing</th>\n",
       "      <th>loan</th>\n",
       "      <th>contact</th>\n",
       "      <th>month</th>\n",
       "      <th>day_of_week</th>\n",
       "      <th>...</th>\n",
       "      <th>pdays</th>\n",
       "      <th>previous</th>\n",
       "      <th>poutcome</th>\n",
       "      <th>emp.var.rate</th>\n",
       "      <th>cons.price.idx</th>\n",
       "      <th>cons.conf.idx</th>\n",
       "      <th>euribor3m</th>\n",
       "      <th>nr.employed</th>\n",
       "      <th>term_deposit</th>\n",
       "      <th>age_group</th>\n",
       "    </tr>\n",
       "  </thead>\n",
       "  <tbody>\n",
       "    <tr>\n",
       "      <th>0</th>\n",
       "      <td>56</td>\n",
       "      <td>housemaid</td>\n",
       "      <td>married</td>\n",
       "      <td>basic.4y</td>\n",
       "      <td>0.0</td>\n",
       "      <td>0.0</td>\n",
       "      <td>0.0</td>\n",
       "      <td>telephone</td>\n",
       "      <td>may</td>\n",
       "      <td>mon</td>\n",
       "      <td>...</td>\n",
       "      <td>999</td>\n",
       "      <td>0</td>\n",
       "      <td>nonexistent</td>\n",
       "      <td>1.1</td>\n",
       "      <td>93.994</td>\n",
       "      <td>-36.4</td>\n",
       "      <td>4.857</td>\n",
       "      <td>5191.0</td>\n",
       "      <td>0</td>\n",
       "      <td>56-65</td>\n",
       "    </tr>\n",
       "    <tr>\n",
       "      <th>1</th>\n",
       "      <td>57</td>\n",
       "      <td>services</td>\n",
       "      <td>married</td>\n",
       "      <td>high.school</td>\n",
       "      <td>unknown</td>\n",
       "      <td>0.0</td>\n",
       "      <td>0.0</td>\n",
       "      <td>telephone</td>\n",
       "      <td>may</td>\n",
       "      <td>mon</td>\n",
       "      <td>...</td>\n",
       "      <td>999</td>\n",
       "      <td>0</td>\n",
       "      <td>nonexistent</td>\n",
       "      <td>1.1</td>\n",
       "      <td>93.994</td>\n",
       "      <td>-36.4</td>\n",
       "      <td>4.857</td>\n",
       "      <td>5191.0</td>\n",
       "      <td>0</td>\n",
       "      <td>56-65</td>\n",
       "    </tr>\n",
       "    <tr>\n",
       "      <th>2</th>\n",
       "      <td>37</td>\n",
       "      <td>services</td>\n",
       "      <td>married</td>\n",
       "      <td>high.school</td>\n",
       "      <td>0.0</td>\n",
       "      <td>1.0</td>\n",
       "      <td>0.0</td>\n",
       "      <td>telephone</td>\n",
       "      <td>may</td>\n",
       "      <td>mon</td>\n",
       "      <td>...</td>\n",
       "      <td>999</td>\n",
       "      <td>0</td>\n",
       "      <td>nonexistent</td>\n",
       "      <td>1.1</td>\n",
       "      <td>93.994</td>\n",
       "      <td>-36.4</td>\n",
       "      <td>4.857</td>\n",
       "      <td>5191.0</td>\n",
       "      <td>0</td>\n",
       "      <td>36-45</td>\n",
       "    </tr>\n",
       "    <tr>\n",
       "      <th>3</th>\n",
       "      <td>40</td>\n",
       "      <td>admin.</td>\n",
       "      <td>married</td>\n",
       "      <td>basic.6y</td>\n",
       "      <td>0.0</td>\n",
       "      <td>0.0</td>\n",
       "      <td>0.0</td>\n",
       "      <td>telephone</td>\n",
       "      <td>may</td>\n",
       "      <td>mon</td>\n",
       "      <td>...</td>\n",
       "      <td>999</td>\n",
       "      <td>0</td>\n",
       "      <td>nonexistent</td>\n",
       "      <td>1.1</td>\n",
       "      <td>93.994</td>\n",
       "      <td>-36.4</td>\n",
       "      <td>4.857</td>\n",
       "      <td>5191.0</td>\n",
       "      <td>0</td>\n",
       "      <td>36-45</td>\n",
       "    </tr>\n",
       "    <tr>\n",
       "      <th>4</th>\n",
       "      <td>56</td>\n",
       "      <td>services</td>\n",
       "      <td>married</td>\n",
       "      <td>high.school</td>\n",
       "      <td>0.0</td>\n",
       "      <td>0.0</td>\n",
       "      <td>1.0</td>\n",
       "      <td>telephone</td>\n",
       "      <td>may</td>\n",
       "      <td>mon</td>\n",
       "      <td>...</td>\n",
       "      <td>999</td>\n",
       "      <td>0</td>\n",
       "      <td>nonexistent</td>\n",
       "      <td>1.1</td>\n",
       "      <td>93.994</td>\n",
       "      <td>-36.4</td>\n",
       "      <td>4.857</td>\n",
       "      <td>5191.0</td>\n",
       "      <td>0</td>\n",
       "      <td>56-65</td>\n",
       "    </tr>\n",
       "  </tbody>\n",
       "</table>\n",
       "<p>5 rows × 21 columns</p>\n",
       "</div>"
      ],
      "text/plain": [
       "   age        job  marital    education  default  housing  loan    contact  \\\n",
       "0   56  housemaid  married     basic.4y      0.0      0.0   0.0  telephone   \n",
       "1   57   services  married  high.school  unknown      0.0   0.0  telephone   \n",
       "2   37   services  married  high.school      0.0      1.0   0.0  telephone   \n",
       "3   40     admin.  married     basic.6y      0.0      0.0   0.0  telephone   \n",
       "4   56   services  married  high.school      0.0      0.0   1.0  telephone   \n",
       "\n",
       "  month day_of_week  ...  pdays  previous     poutcome emp.var.rate  \\\n",
       "0   may         mon  ...    999         0  nonexistent          1.1   \n",
       "1   may         mon  ...    999         0  nonexistent          1.1   \n",
       "2   may         mon  ...    999         0  nonexistent          1.1   \n",
       "3   may         mon  ...    999         0  nonexistent          1.1   \n",
       "4   may         mon  ...    999         0  nonexistent          1.1   \n",
       "\n",
       "   cons.price.idx  cons.conf.idx  euribor3m  nr.employed  term_deposit  \\\n",
       "0          93.994          -36.4      4.857       5191.0             0   \n",
       "1          93.994          -36.4      4.857       5191.0             0   \n",
       "2          93.994          -36.4      4.857       5191.0             0   \n",
       "3          93.994          -36.4      4.857       5191.0             0   \n",
       "4          93.994          -36.4      4.857       5191.0             0   \n",
       "\n",
       "   age_group  \n",
       "0      56-65  \n",
       "1      56-65  \n",
       "2      36-45  \n",
       "3      36-45  \n",
       "4      56-65  \n",
       "\n",
       "[5 rows x 21 columns]"
      ]
     },
     "execution_count": 237,
     "metadata": {},
     "output_type": "execute_result"
    }
   ],
   "source": [
    "bank.head()"
   ]
  },
  {
   "cell_type": "markdown",
   "metadata": {},
   "source": [
    "#### 8. Using the results of your EDA choose your features to put into your first predictive model\n",
    "\n",
    "A \"good\" feature is one which contains *variance of the outcome*. For example, if people in all age groups bought the product at around the same %, age would **not** be a good feature, because it doesn't get us closer to separating those that bought from those that didn't."
   ]
  },
  {
   "cell_type": "code",
   "execution_count": 238,
   "metadata": {},
   "outputs": [
    {
     "name": "stdout",
     "output_type": "stream",
     "text": [
      "Index(['age', 'job', 'marital', 'education', 'default', 'housing', 'loan',\n",
      "       'contact', 'month', 'day_of_week', 'campaign', 'pdays', 'previous',\n",
      "       'poutcome', 'emp.var.rate', 'cons.price.idx', 'cons.conf.idx',\n",
      "       'euribor3m', 'nr.employed', 'term_deposit', 'age_group'],\n",
      "      dtype='object')\n"
     ]
    }
   ],
   "source": [
    "print(bank.columns)"
   ]
  },
  {
   "cell_type": "code",
   "execution_count": null,
   "metadata": {},
   "outputs": [],
   "source": [
    "#Selected all features related to the the customer itself. \n",
    "\n",
    "features = ['age', \n",
    "            'job', \n",
    "            'marital', \n",
    "            'education', \n",
    "            'default',\n",
    "            'housing',\n",
    "            'loan'\n",
    "            ]\n"
   ]
  },
  {
   "cell_type": "markdown",
   "metadata": {},
   "source": [
    "# <font color=\"red\">Part 2 - our first model</font>\n",
    "\n",
    "It's time to build your first predictive model.\n",
    "\n",
    "#### 1. First, do any transformations required to our data\n",
    "    \n",
    "- If you haven't already, based on your EDA results drop any values you don't wish to use (outliers, certain categories)\n",
    "- For your categorical column(s) convert the columns to a dummy (one-hot encoded) representation if you wish to use them\n",
    "\n",
    "Once you convert the categories to dummies, drop one of the columns per category. Remember this acts as a \"reference\", as your \"default\" category. Typically we choose the category containing the most values."
   ]
  },
  {
   "cell_type": "code",
   "execution_count": 240,
   "metadata": {},
   "outputs": [
    {
     "data": {
      "application/vnd.microsoft.datawrangler.viewer.v0+json": {
       "columns": [
        {
         "name": "index",
         "rawType": "object",
         "type": "string"
        },
        {
         "name": "0",
         "rawType": "int64",
         "type": "integer"
        }
       ],
       "ref": "ac03ba80-413f-4869-91b4-572c7b47d167",
       "rows": [
        [
         "age",
         "0"
        ],
        [
         "job",
         "0"
        ],
        [
         "marital",
         "0"
        ],
        [
         "education",
         "0"
        ],
        [
         "default",
         "0"
        ],
        [
         "housing",
         "0"
        ],
        [
         "loan",
         "0"
        ],
        [
         "contact",
         "0"
        ],
        [
         "month",
         "0"
        ],
        [
         "day_of_week",
         "0"
        ],
        [
         "campaign",
         "0"
        ],
        [
         "pdays",
         "0"
        ],
        [
         "previous",
         "0"
        ],
        [
         "poutcome",
         "0"
        ],
        [
         "emp.var.rate",
         "0"
        ],
        [
         "cons.price.idx",
         "0"
        ],
        [
         "cons.conf.idx",
         "0"
        ],
        [
         "euribor3m",
         "0"
        ],
        [
         "nr.employed",
         "0"
        ],
        [
         "term_deposit",
         "0"
        ],
        [
         "age_group",
         "0"
        ]
       ],
       "shape": {
        "columns": 1,
        "rows": 21
       }
      },
      "text/plain": [
       "age               0\n",
       "job               0\n",
       "marital           0\n",
       "education         0\n",
       "default           0\n",
       "housing           0\n",
       "loan              0\n",
       "contact           0\n",
       "month             0\n",
       "day_of_week       0\n",
       "campaign          0\n",
       "pdays             0\n",
       "previous          0\n",
       "poutcome          0\n",
       "emp.var.rate      0\n",
       "cons.price.idx    0\n",
       "cons.conf.idx     0\n",
       "euribor3m         0\n",
       "nr.employed       0\n",
       "term_deposit      0\n",
       "age_group         0\n",
       "dtype: int64"
      ]
     },
     "execution_count": 240,
     "metadata": {},
     "output_type": "execute_result"
    }
   ],
   "source": [
    "from sklearn.neighbors import KNeighborsClassifier\n",
    "from sklearn.model_selection import train_test_split\n",
    "from sklearn.metrics import accuracy_score\n",
    "from sklearn.impute import SimpleImputer\n",
    "\n",
    "#Using simple imputer filled missing values using the most frequent values.\n",
    "mode_imputer = SimpleImputer(strategy='most_frequent')\n",
    "bank[['housing', 'loan']] = mode_imputer.fit_transform(bank[['housing', 'loan']])\n",
    "bank.isna().sum()\n"
   ]
  },
  {
   "cell_type": "code",
   "execution_count": 241,
   "metadata": {},
   "outputs": [
    {
     "name": "stdout",
     "output_type": "stream",
     "text": [
      "age                78\n",
      "job                12\n",
      "marital             4\n",
      "education           8\n",
      "default             3\n",
      "housing             2\n",
      "loan                2\n",
      "contact             2\n",
      "month              10\n",
      "day_of_week         5\n",
      "campaign           42\n",
      "pdays              27\n",
      "previous            8\n",
      "poutcome            3\n",
      "emp.var.rate       10\n",
      "cons.price.idx     26\n",
      "cons.conf.idx      26\n",
      "euribor3m         316\n",
      "nr.employed        11\n",
      "term_deposit        2\n",
      "age_group           6\n",
      "dtype: int64\n"
     ]
    }
   ],
   "source": [
    "print(bank.nunique())\n"
   ]
  },
  {
   "cell_type": "markdown",
   "metadata": {},
   "source": [
    "#### 2. Create the necessary `X_train`, `X_test`, `y_train` and `y_test` variables using the features you chose above.\n",
    "\n",
    "Make sure `X_train` and `X_test` only include the features you chose (including the dummy variables for categorical features)."
   ]
  },
  {
   "cell_type": "code",
   "execution_count": 242,
   "metadata": {},
   "outputs": [],
   "source": [
    "from sklearn.preprocessing import StandardScaler\n",
    "\n",
    "X = bank[features]\n",
    "y = bank['term_deposit']\n",
    "X_dummies = pd.get_dummies(X, columns=['job', 'marital', 'education', 'default', 'housing', 'loan'], drop_first=True)\n",
    "X_train, X_test, y_train, y_test=train_test_split(X_dummies,y,random_state=99)\n",
    "\n",
    "scaler = StandardScaler()\n",
    "X_train_scaled = scaler.fit_transform(X_train)\n",
    "X_test_scaled = scaler.transform(X_test)\n",
    "\n",
    "\n",
    "# X_train, X_test, y_train, y_test = train_test_split(X, y, random_state=99)"
   ]
  },
  {
   "cell_type": "code",
   "execution_count": 243,
   "metadata": {},
   "outputs": [
    {
     "data": {
      "application/vnd.microsoft.datawrangler.viewer.v0+json": {
       "columns": [
        {
         "name": "index",
         "rawType": "object",
         "type": "string"
        },
        {
         "name": "age",
         "rawType": "int64",
         "type": "integer"
        },
        {
         "name": "job_blue-collar",
         "rawType": "bool",
         "type": "boolean"
        },
        {
         "name": "job_entrepreneur",
         "rawType": "bool",
         "type": "boolean"
        },
        {
         "name": "job_housemaid",
         "rawType": "bool",
         "type": "boolean"
        },
        {
         "name": "job_management",
         "rawType": "bool",
         "type": "boolean"
        },
        {
         "name": "job_retired",
         "rawType": "bool",
         "type": "boolean"
        },
        {
         "name": "job_self-employed",
         "rawType": "bool",
         "type": "boolean"
        },
        {
         "name": "job_services",
         "rawType": "bool",
         "type": "boolean"
        },
        {
         "name": "job_student",
         "rawType": "bool",
         "type": "boolean"
        },
        {
         "name": "job_technician",
         "rawType": "bool",
         "type": "boolean"
        },
        {
         "name": "job_unemployed",
         "rawType": "bool",
         "type": "boolean"
        },
        {
         "name": "job_unknown",
         "rawType": "bool",
         "type": "boolean"
        },
        {
         "name": "marital_married",
         "rawType": "bool",
         "type": "boolean"
        },
        {
         "name": "marital_single",
         "rawType": "bool",
         "type": "boolean"
        },
        {
         "name": "marital_unknown",
         "rawType": "bool",
         "type": "boolean"
        },
        {
         "name": "education_basic.6y",
         "rawType": "bool",
         "type": "boolean"
        },
        {
         "name": "education_basic.9y",
         "rawType": "bool",
         "type": "boolean"
        },
        {
         "name": "education_high.school",
         "rawType": "bool",
         "type": "boolean"
        },
        {
         "name": "education_illiterate",
         "rawType": "bool",
         "type": "boolean"
        },
        {
         "name": "education_professional.course",
         "rawType": "bool",
         "type": "boolean"
        },
        {
         "name": "education_university.degree",
         "rawType": "bool",
         "type": "boolean"
        },
        {
         "name": "education_unknown",
         "rawType": "bool",
         "type": "boolean"
        },
        {
         "name": "default_1.0",
         "rawType": "bool",
         "type": "boolean"
        },
        {
         "name": "default_unknown",
         "rawType": "bool",
         "type": "boolean"
        },
        {
         "name": "housing_1.0",
         "rawType": "bool",
         "type": "boolean"
        },
        {
         "name": "loan_1.0",
         "rawType": "bool",
         "type": "boolean"
        }
       ],
       "ref": "f8605aa6-29da-4381-8606-96914cc26a36",
       "rows": [
        [
         "0",
         "56",
         "False",
         "False",
         "True",
         "False",
         "False",
         "False",
         "False",
         "False",
         "False",
         "False",
         "False",
         "True",
         "False",
         "False",
         "False",
         "False",
         "False",
         "False",
         "False",
         "False",
         "False",
         "False",
         "False",
         "False",
         "False"
        ],
        [
         "1",
         "57",
         "False",
         "False",
         "False",
         "False",
         "False",
         "False",
         "True",
         "False",
         "False",
         "False",
         "False",
         "True",
         "False",
         "False",
         "False",
         "False",
         "True",
         "False",
         "False",
         "False",
         "False",
         "False",
         "True",
         "False",
         "False"
        ],
        [
         "2",
         "37",
         "False",
         "False",
         "False",
         "False",
         "False",
         "False",
         "True",
         "False",
         "False",
         "False",
         "False",
         "True",
         "False",
         "False",
         "False",
         "False",
         "True",
         "False",
         "False",
         "False",
         "False",
         "False",
         "False",
         "True",
         "False"
        ],
        [
         "3",
         "40",
         "False",
         "False",
         "False",
         "False",
         "False",
         "False",
         "False",
         "False",
         "False",
         "False",
         "False",
         "True",
         "False",
         "False",
         "True",
         "False",
         "False",
         "False",
         "False",
         "False",
         "False",
         "False",
         "False",
         "False",
         "False"
        ],
        [
         "4",
         "56",
         "False",
         "False",
         "False",
         "False",
         "False",
         "False",
         "True",
         "False",
         "False",
         "False",
         "False",
         "True",
         "False",
         "False",
         "False",
         "False",
         "True",
         "False",
         "False",
         "False",
         "False",
         "False",
         "False",
         "False",
         "True"
        ],
        [
         "5",
         "45",
         "False",
         "False",
         "False",
         "False",
         "False",
         "False",
         "True",
         "False",
         "False",
         "False",
         "False",
         "True",
         "False",
         "False",
         "False",
         "True",
         "False",
         "False",
         "False",
         "False",
         "False",
         "False",
         "True",
         "False",
         "False"
        ],
        [
         "6",
         "59",
         "False",
         "False",
         "False",
         "False",
         "False",
         "False",
         "False",
         "False",
         "False",
         "False",
         "False",
         "True",
         "False",
         "False",
         "False",
         "False",
         "False",
         "False",
         "True",
         "False",
         "False",
         "False",
         "False",
         "False",
         "False"
        ],
        [
         "7",
         "41",
         "True",
         "False",
         "False",
         "False",
         "False",
         "False",
         "False",
         "False",
         "False",
         "False",
         "False",
         "True",
         "False",
         "False",
         "False",
         "False",
         "False",
         "False",
         "False",
         "False",
         "True",
         "False",
         "True",
         "False",
         "False"
        ],
        [
         "8",
         "24",
         "False",
         "False",
         "False",
         "False",
         "False",
         "False",
         "False",
         "False",
         "True",
         "False",
         "False",
         "False",
         "True",
         "False",
         "False",
         "False",
         "False",
         "False",
         "True",
         "False",
         "False",
         "False",
         "False",
         "True",
         "False"
        ],
        [
         "9",
         "25",
         "False",
         "False",
         "False",
         "False",
         "False",
         "False",
         "True",
         "False",
         "False",
         "False",
         "False",
         "False",
         "True",
         "False",
         "False",
         "False",
         "True",
         "False",
         "False",
         "False",
         "False",
         "False",
         "False",
         "True",
         "False"
        ],
        [
         "10",
         "41",
         "True",
         "False",
         "False",
         "False",
         "False",
         "False",
         "False",
         "False",
         "False",
         "False",
         "False",
         "True",
         "False",
         "False",
         "False",
         "False",
         "False",
         "False",
         "False",
         "False",
         "True",
         "False",
         "True",
         "False",
         "False"
        ],
        [
         "11",
         "25",
         "False",
         "False",
         "False",
         "False",
         "False",
         "False",
         "True",
         "False",
         "False",
         "False",
         "False",
         "False",
         "True",
         "False",
         "False",
         "False",
         "True",
         "False",
         "False",
         "False",
         "False",
         "False",
         "False",
         "True",
         "False"
        ],
        [
         "12",
         "29",
         "True",
         "False",
         "False",
         "False",
         "False",
         "False",
         "False",
         "False",
         "False",
         "False",
         "False",
         "False",
         "True",
         "False",
         "False",
         "False",
         "True",
         "False",
         "False",
         "False",
         "False",
         "False",
         "False",
         "False",
         "True"
        ],
        [
         "13",
         "57",
         "False",
         "False",
         "True",
         "False",
         "False",
         "False",
         "False",
         "False",
         "False",
         "False",
         "False",
         "False",
         "False",
         "False",
         "False",
         "False",
         "False",
         "False",
         "False",
         "False",
         "False",
         "False",
         "False",
         "True",
         "False"
        ],
        [
         "14",
         "35",
         "True",
         "False",
         "False",
         "False",
         "False",
         "False",
         "False",
         "False",
         "False",
         "False",
         "False",
         "True",
         "False",
         "False",
         "True",
         "False",
         "False",
         "False",
         "False",
         "False",
         "False",
         "False",
         "False",
         "True",
         "False"
        ],
        [
         "15",
         "54",
         "False",
         "False",
         "False",
         "False",
         "True",
         "False",
         "False",
         "False",
         "False",
         "False",
         "False",
         "True",
         "False",
         "False",
         "False",
         "True",
         "False",
         "False",
         "False",
         "False",
         "False",
         "False",
         "True",
         "True",
         "True"
        ],
        [
         "16",
         "35",
         "True",
         "False",
         "False",
         "False",
         "False",
         "False",
         "False",
         "False",
         "False",
         "False",
         "False",
         "True",
         "False",
         "False",
         "True",
         "False",
         "False",
         "False",
         "False",
         "False",
         "False",
         "False",
         "False",
         "True",
         "False"
        ],
        [
         "17",
         "46",
         "True",
         "False",
         "False",
         "False",
         "False",
         "False",
         "False",
         "False",
         "False",
         "False",
         "False",
         "True",
         "False",
         "False",
         "True",
         "False",
         "False",
         "False",
         "False",
         "False",
         "False",
         "False",
         "True",
         "True",
         "True"
        ],
        [
         "18",
         "50",
         "True",
         "False",
         "False",
         "False",
         "False",
         "False",
         "False",
         "False",
         "False",
         "False",
         "False",
         "True",
         "False",
         "False",
         "False",
         "True",
         "False",
         "False",
         "False",
         "False",
         "False",
         "False",
         "False",
         "True",
         "True"
        ],
        [
         "19",
         "39",
         "False",
         "False",
         "False",
         "True",
         "False",
         "False",
         "False",
         "False",
         "False",
         "False",
         "False",
         "False",
         "True",
         "False",
         "False",
         "True",
         "False",
         "False",
         "False",
         "False",
         "False",
         "False",
         "True",
         "False",
         "False"
        ],
        [
         "20",
         "30",
         "False",
         "False",
         "False",
         "False",
         "False",
         "False",
         "False",
         "False",
         "False",
         "True",
         "False",
         "True",
         "False",
         "False",
         "False",
         "False",
         "True",
         "False",
         "False",
         "False",
         "False",
         "False",
         "False",
         "False",
         "False"
        ],
        [
         "21",
         "55",
         "True",
         "False",
         "False",
         "False",
         "False",
         "False",
         "False",
         "False",
         "False",
         "False",
         "False",
         "True",
         "False",
         "False",
         "False",
         "False",
         "False",
         "False",
         "False",
         "False",
         "False",
         "False",
         "True",
         "True",
         "False"
        ],
        [
         "22",
         "55",
         "False",
         "False",
         "False",
         "False",
         "True",
         "False",
         "False",
         "False",
         "False",
         "False",
         "False",
         "False",
         "True",
         "False",
         "False",
         "False",
         "True",
         "False",
         "False",
         "False",
         "False",
         "False",
         "False",
         "True",
         "False"
        ],
        [
         "23",
         "41",
         "False",
         "False",
         "False",
         "False",
         "False",
         "False",
         "False",
         "False",
         "True",
         "False",
         "False",
         "False",
         "True",
         "False",
         "False",
         "False",
         "True",
         "False",
         "False",
         "False",
         "False",
         "False",
         "False",
         "True",
         "False"
        ],
        [
         "24",
         "37",
         "False",
         "False",
         "False",
         "False",
         "False",
         "False",
         "False",
         "False",
         "False",
         "False",
         "False",
         "True",
         "False",
         "False",
         "False",
         "False",
         "True",
         "False",
         "False",
         "False",
         "False",
         "False",
         "False",
         "True",
         "False"
        ],
        [
         "25",
         "35",
         "False",
         "False",
         "False",
         "False",
         "False",
         "False",
         "False",
         "False",
         "True",
         "False",
         "False",
         "True",
         "False",
         "False",
         "False",
         "False",
         "False",
         "False",
         "False",
         "True",
         "False",
         "False",
         "False",
         "False",
         "True"
        ],
        [
         "26",
         "59",
         "False",
         "False",
         "False",
         "False",
         "False",
         "False",
         "False",
         "False",
         "True",
         "False",
         "False",
         "True",
         "False",
         "False",
         "False",
         "False",
         "False",
         "False",
         "False",
         "False",
         "True",
         "False",
         "False",
         "True",
         "False"
        ],
        [
         "27",
         "39",
         "False",
         "False",
         "False",
         "False",
         "False",
         "True",
         "False",
         "False",
         "False",
         "False",
         "False",
         "True",
         "False",
         "False",
         "False",
         "True",
         "False",
         "False",
         "False",
         "False",
         "False",
         "False",
         "True",
         "False",
         "False"
        ],
        [
         "28",
         "54",
         "False",
         "False",
         "False",
         "False",
         "False",
         "False",
         "False",
         "False",
         "True",
         "False",
         "False",
         "False",
         "True",
         "False",
         "False",
         "False",
         "False",
         "False",
         "False",
         "True",
         "False",
         "False",
         "True",
         "False",
         "False"
        ],
        [
         "29",
         "55",
         "False",
         "False",
         "False",
         "False",
         "False",
         "False",
         "False",
         "False",
         "False",
         "False",
         "True",
         "True",
         "False",
         "False",
         "False",
         "False",
         "False",
         "False",
         "False",
         "True",
         "False",
         "False",
         "True",
         "True",
         "False"
        ],
        [
         "30",
         "46",
         "False",
         "False",
         "False",
         "False",
         "False",
         "False",
         "False",
         "False",
         "False",
         "False",
         "False",
         "True",
         "False",
         "False",
         "False",
         "False",
         "False",
         "False",
         "False",
         "False",
         "True",
         "False",
         "False",
         "False",
         "False"
        ],
        [
         "31",
         "59",
         "False",
         "False",
         "False",
         "False",
         "False",
         "False",
         "False",
         "False",
         "True",
         "False",
         "False",
         "True",
         "False",
         "False",
         "False",
         "False",
         "False",
         "False",
         "False",
         "False",
         "True",
         "False",
         "False",
         "True",
         "False"
        ],
        [
         "32",
         "49",
         "True",
         "False",
         "False",
         "False",
         "False",
         "False",
         "False",
         "False",
         "False",
         "False",
         "False",
         "True",
         "False",
         "False",
         "False",
         "False",
         "False",
         "False",
         "False",
         "False",
         "True",
         "False",
         "False",
         "False",
         "False"
        ],
        [
         "33",
         "54",
         "False",
         "False",
         "False",
         "True",
         "False",
         "False",
         "False",
         "False",
         "False",
         "False",
         "False",
         "True",
         "False",
         "False",
         "False",
         "False",
         "False",
         "False",
         "False",
         "False",
         "False",
         "False",
         "True",
         "True",
         "False"
        ],
        [
         "34",
         "54",
         "True",
         "False",
         "False",
         "False",
         "False",
         "False",
         "False",
         "False",
         "False",
         "False",
         "False",
         "False",
         "False",
         "False",
         "False",
         "False",
         "False",
         "False",
         "False",
         "False",
         "False",
         "False",
         "False",
         "False",
         "False"
        ],
        [
         "35",
         "55",
         "False",
         "False",
         "False",
         "False",
         "False",
         "False",
         "False",
         "False",
         "False",
         "False",
         "True",
         "True",
         "False",
         "False",
         "False",
         "False",
         "False",
         "False",
         "False",
         "False",
         "False",
         "False",
         "True",
         "True",
         "False"
        ],
        [
         "36",
         "34",
         "False",
         "False",
         "False",
         "False",
         "False",
         "False",
         "True",
         "False",
         "False",
         "False",
         "False",
         "True",
         "False",
         "False",
         "False",
         "False",
         "True",
         "False",
         "False",
         "False",
         "False",
         "False",
         "False",
         "False",
         "False"
        ],
        [
         "37",
         "52",
         "False",
         "False",
         "False",
         "False",
         "False",
         "False",
         "False",
         "False",
         "True",
         "False",
         "False",
         "True",
         "False",
         "False",
         "False",
         "True",
         "False",
         "False",
         "False",
         "False",
         "False",
         "False",
         "False",
         "True",
         "False"
        ],
        [
         "38",
         "41",
         "False",
         "False",
         "False",
         "False",
         "False",
         "False",
         "False",
         "False",
         "False",
         "False",
         "False",
         "True",
         "False",
         "False",
         "False",
         "False",
         "False",
         "False",
         "False",
         "True",
         "False",
         "False",
         "False",
         "True",
         "False"
        ],
        [
         "39",
         "56",
         "False",
         "False",
         "False",
         "False",
         "False",
         "False",
         "False",
         "False",
         "True",
         "False",
         "False",
         "True",
         "False",
         "False",
         "False",
         "False",
         "False",
         "False",
         "False",
         "False",
         "False",
         "False",
         "False",
         "True",
         "False"
        ],
        [
         "40",
         "58",
         "False",
         "False",
         "False",
         "True",
         "False",
         "False",
         "False",
         "False",
         "False",
         "False",
         "False",
         "False",
         "False",
         "True",
         "False",
         "False",
         "False",
         "False",
         "False",
         "True",
         "False",
         "False",
         "False",
         "True",
         "False"
        ],
        [
         "41",
         "32",
         "False",
         "True",
         "False",
         "False",
         "False",
         "False",
         "False",
         "False",
         "False",
         "False",
         "False",
         "True",
         "False",
         "False",
         "False",
         "False",
         "True",
         "False",
         "False",
         "False",
         "False",
         "False",
         "False",
         "True",
         "False"
        ],
        [
         "42",
         "38",
         "False",
         "False",
         "False",
         "False",
         "False",
         "False",
         "False",
         "False",
         "False",
         "False",
         "False",
         "False",
         "True",
         "False",
         "False",
         "False",
         "False",
         "False",
         "True",
         "False",
         "False",
         "False",
         "False",
         "False",
         "False"
        ],
        [
         "43",
         "57",
         "False",
         "False",
         "False",
         "False",
         "False",
         "False",
         "False",
         "False",
         "False",
         "False",
         "False",
         "True",
         "False",
         "False",
         "False",
         "False",
         "False",
         "False",
         "False",
         "True",
         "False",
         "False",
         "False",
         "False",
         "True"
        ],
        [
         "44",
         "44",
         "False",
         "False",
         "False",
         "False",
         "False",
         "False",
         "False",
         "False",
         "False",
         "False",
         "False",
         "True",
         "False",
         "False",
         "False",
         "False",
         "False",
         "False",
         "False",
         "True",
         "False",
         "False",
         "True",
         "True",
         "False"
        ],
        [
         "45",
         "42",
         "False",
         "False",
         "False",
         "False",
         "False",
         "False",
         "False",
         "False",
         "True",
         "False",
         "False",
         "False",
         "True",
         "False",
         "False",
         "False",
         "False",
         "False",
         "True",
         "False",
         "False",
         "False",
         "True",
         "False",
         "False"
        ],
        [
         "46",
         "57",
         "False",
         "False",
         "False",
         "False",
         "False",
         "False",
         "False",
         "False",
         "False",
         "False",
         "False",
         "True",
         "False",
         "False",
         "False",
         "False",
         "False",
         "False",
         "False",
         "True",
         "False",
         "False",
         "False",
         "True",
         "True"
        ],
        [
         "47",
         "40",
         "True",
         "False",
         "False",
         "False",
         "False",
         "False",
         "False",
         "False",
         "False",
         "False",
         "False",
         "True",
         "False",
         "False",
         "False",
         "True",
         "False",
         "False",
         "False",
         "False",
         "False",
         "False",
         "False",
         "False",
         "True"
        ],
        [
         "48",
         "35",
         "False",
         "False",
         "False",
         "False",
         "False",
         "False",
         "False",
         "False",
         "False",
         "False",
         "False",
         "True",
         "False",
         "False",
         "False",
         "False",
         "False",
         "False",
         "False",
         "True",
         "False",
         "False",
         "False",
         "True",
         "False"
        ],
        [
         "49",
         "45",
         "True",
         "False",
         "False",
         "False",
         "False",
         "False",
         "False",
         "False",
         "False",
         "False",
         "False",
         "True",
         "False",
         "False",
         "False",
         "True",
         "False",
         "False",
         "False",
         "False",
         "False",
         "False",
         "False",
         "True",
         "False"
        ]
       ],
       "shape": {
        "columns": 26,
        "rows": 41188
       }
      },
      "text/html": [
       "<div>\n",
       "<style scoped>\n",
       "    .dataframe tbody tr th:only-of-type {\n",
       "        vertical-align: middle;\n",
       "    }\n",
       "\n",
       "    .dataframe tbody tr th {\n",
       "        vertical-align: top;\n",
       "    }\n",
       "\n",
       "    .dataframe thead th {\n",
       "        text-align: right;\n",
       "    }\n",
       "</style>\n",
       "<table border=\"1\" class=\"dataframe\">\n",
       "  <thead>\n",
       "    <tr style=\"text-align: right;\">\n",
       "      <th></th>\n",
       "      <th>age</th>\n",
       "      <th>job_blue-collar</th>\n",
       "      <th>job_entrepreneur</th>\n",
       "      <th>job_housemaid</th>\n",
       "      <th>job_management</th>\n",
       "      <th>job_retired</th>\n",
       "      <th>job_self-employed</th>\n",
       "      <th>job_services</th>\n",
       "      <th>job_student</th>\n",
       "      <th>job_technician</th>\n",
       "      <th>...</th>\n",
       "      <th>education_basic.9y</th>\n",
       "      <th>education_high.school</th>\n",
       "      <th>education_illiterate</th>\n",
       "      <th>education_professional.course</th>\n",
       "      <th>education_university.degree</th>\n",
       "      <th>education_unknown</th>\n",
       "      <th>default_1.0</th>\n",
       "      <th>default_unknown</th>\n",
       "      <th>housing_1.0</th>\n",
       "      <th>loan_1.0</th>\n",
       "    </tr>\n",
       "  </thead>\n",
       "  <tbody>\n",
       "    <tr>\n",
       "      <th>0</th>\n",
       "      <td>56</td>\n",
       "      <td>False</td>\n",
       "      <td>False</td>\n",
       "      <td>True</td>\n",
       "      <td>False</td>\n",
       "      <td>False</td>\n",
       "      <td>False</td>\n",
       "      <td>False</td>\n",
       "      <td>False</td>\n",
       "      <td>False</td>\n",
       "      <td>...</td>\n",
       "      <td>False</td>\n",
       "      <td>False</td>\n",
       "      <td>False</td>\n",
       "      <td>False</td>\n",
       "      <td>False</td>\n",
       "      <td>False</td>\n",
       "      <td>False</td>\n",
       "      <td>False</td>\n",
       "      <td>False</td>\n",
       "      <td>False</td>\n",
       "    </tr>\n",
       "    <tr>\n",
       "      <th>1</th>\n",
       "      <td>57</td>\n",
       "      <td>False</td>\n",
       "      <td>False</td>\n",
       "      <td>False</td>\n",
       "      <td>False</td>\n",
       "      <td>False</td>\n",
       "      <td>False</td>\n",
       "      <td>True</td>\n",
       "      <td>False</td>\n",
       "      <td>False</td>\n",
       "      <td>...</td>\n",
       "      <td>False</td>\n",
       "      <td>True</td>\n",
       "      <td>False</td>\n",
       "      <td>False</td>\n",
       "      <td>False</td>\n",
       "      <td>False</td>\n",
       "      <td>False</td>\n",
       "      <td>True</td>\n",
       "      <td>False</td>\n",
       "      <td>False</td>\n",
       "    </tr>\n",
       "    <tr>\n",
       "      <th>2</th>\n",
       "      <td>37</td>\n",
       "      <td>False</td>\n",
       "      <td>False</td>\n",
       "      <td>False</td>\n",
       "      <td>False</td>\n",
       "      <td>False</td>\n",
       "      <td>False</td>\n",
       "      <td>True</td>\n",
       "      <td>False</td>\n",
       "      <td>False</td>\n",
       "      <td>...</td>\n",
       "      <td>False</td>\n",
       "      <td>True</td>\n",
       "      <td>False</td>\n",
       "      <td>False</td>\n",
       "      <td>False</td>\n",
       "      <td>False</td>\n",
       "      <td>False</td>\n",
       "      <td>False</td>\n",
       "      <td>True</td>\n",
       "      <td>False</td>\n",
       "    </tr>\n",
       "    <tr>\n",
       "      <th>3</th>\n",
       "      <td>40</td>\n",
       "      <td>False</td>\n",
       "      <td>False</td>\n",
       "      <td>False</td>\n",
       "      <td>False</td>\n",
       "      <td>False</td>\n",
       "      <td>False</td>\n",
       "      <td>False</td>\n",
       "      <td>False</td>\n",
       "      <td>False</td>\n",
       "      <td>...</td>\n",
       "      <td>False</td>\n",
       "      <td>False</td>\n",
       "      <td>False</td>\n",
       "      <td>False</td>\n",
       "      <td>False</td>\n",
       "      <td>False</td>\n",
       "      <td>False</td>\n",
       "      <td>False</td>\n",
       "      <td>False</td>\n",
       "      <td>False</td>\n",
       "    </tr>\n",
       "    <tr>\n",
       "      <th>4</th>\n",
       "      <td>56</td>\n",
       "      <td>False</td>\n",
       "      <td>False</td>\n",
       "      <td>False</td>\n",
       "      <td>False</td>\n",
       "      <td>False</td>\n",
       "      <td>False</td>\n",
       "      <td>True</td>\n",
       "      <td>False</td>\n",
       "      <td>False</td>\n",
       "      <td>...</td>\n",
       "      <td>False</td>\n",
       "      <td>True</td>\n",
       "      <td>False</td>\n",
       "      <td>False</td>\n",
       "      <td>False</td>\n",
       "      <td>False</td>\n",
       "      <td>False</td>\n",
       "      <td>False</td>\n",
       "      <td>False</td>\n",
       "      <td>True</td>\n",
       "    </tr>\n",
       "    <tr>\n",
       "      <th>...</th>\n",
       "      <td>...</td>\n",
       "      <td>...</td>\n",
       "      <td>...</td>\n",
       "      <td>...</td>\n",
       "      <td>...</td>\n",
       "      <td>...</td>\n",
       "      <td>...</td>\n",
       "      <td>...</td>\n",
       "      <td>...</td>\n",
       "      <td>...</td>\n",
       "      <td>...</td>\n",
       "      <td>...</td>\n",
       "      <td>...</td>\n",
       "      <td>...</td>\n",
       "      <td>...</td>\n",
       "      <td>...</td>\n",
       "      <td>...</td>\n",
       "      <td>...</td>\n",
       "      <td>...</td>\n",
       "      <td>...</td>\n",
       "      <td>...</td>\n",
       "    </tr>\n",
       "    <tr>\n",
       "      <th>41183</th>\n",
       "      <td>73</td>\n",
       "      <td>False</td>\n",
       "      <td>False</td>\n",
       "      <td>False</td>\n",
       "      <td>False</td>\n",
       "      <td>True</td>\n",
       "      <td>False</td>\n",
       "      <td>False</td>\n",
       "      <td>False</td>\n",
       "      <td>False</td>\n",
       "      <td>...</td>\n",
       "      <td>False</td>\n",
       "      <td>False</td>\n",
       "      <td>False</td>\n",
       "      <td>True</td>\n",
       "      <td>False</td>\n",
       "      <td>False</td>\n",
       "      <td>False</td>\n",
       "      <td>False</td>\n",
       "      <td>True</td>\n",
       "      <td>False</td>\n",
       "    </tr>\n",
       "    <tr>\n",
       "      <th>41184</th>\n",
       "      <td>46</td>\n",
       "      <td>True</td>\n",
       "      <td>False</td>\n",
       "      <td>False</td>\n",
       "      <td>False</td>\n",
       "      <td>False</td>\n",
       "      <td>False</td>\n",
       "      <td>False</td>\n",
       "      <td>False</td>\n",
       "      <td>False</td>\n",
       "      <td>...</td>\n",
       "      <td>False</td>\n",
       "      <td>False</td>\n",
       "      <td>False</td>\n",
       "      <td>True</td>\n",
       "      <td>False</td>\n",
       "      <td>False</td>\n",
       "      <td>False</td>\n",
       "      <td>False</td>\n",
       "      <td>False</td>\n",
       "      <td>False</td>\n",
       "    </tr>\n",
       "    <tr>\n",
       "      <th>41185</th>\n",
       "      <td>56</td>\n",
       "      <td>False</td>\n",
       "      <td>False</td>\n",
       "      <td>False</td>\n",
       "      <td>False</td>\n",
       "      <td>True</td>\n",
       "      <td>False</td>\n",
       "      <td>False</td>\n",
       "      <td>False</td>\n",
       "      <td>False</td>\n",
       "      <td>...</td>\n",
       "      <td>False</td>\n",
       "      <td>False</td>\n",
       "      <td>False</td>\n",
       "      <td>False</td>\n",
       "      <td>True</td>\n",
       "      <td>False</td>\n",
       "      <td>False</td>\n",
       "      <td>False</td>\n",
       "      <td>True</td>\n",
       "      <td>False</td>\n",
       "    </tr>\n",
       "    <tr>\n",
       "      <th>41186</th>\n",
       "      <td>44</td>\n",
       "      <td>False</td>\n",
       "      <td>False</td>\n",
       "      <td>False</td>\n",
       "      <td>False</td>\n",
       "      <td>False</td>\n",
       "      <td>False</td>\n",
       "      <td>False</td>\n",
       "      <td>False</td>\n",
       "      <td>True</td>\n",
       "      <td>...</td>\n",
       "      <td>False</td>\n",
       "      <td>False</td>\n",
       "      <td>False</td>\n",
       "      <td>True</td>\n",
       "      <td>False</td>\n",
       "      <td>False</td>\n",
       "      <td>False</td>\n",
       "      <td>False</td>\n",
       "      <td>False</td>\n",
       "      <td>False</td>\n",
       "    </tr>\n",
       "    <tr>\n",
       "      <th>41187</th>\n",
       "      <td>74</td>\n",
       "      <td>False</td>\n",
       "      <td>False</td>\n",
       "      <td>False</td>\n",
       "      <td>False</td>\n",
       "      <td>True</td>\n",
       "      <td>False</td>\n",
       "      <td>False</td>\n",
       "      <td>False</td>\n",
       "      <td>False</td>\n",
       "      <td>...</td>\n",
       "      <td>False</td>\n",
       "      <td>False</td>\n",
       "      <td>False</td>\n",
       "      <td>True</td>\n",
       "      <td>False</td>\n",
       "      <td>False</td>\n",
       "      <td>False</td>\n",
       "      <td>False</td>\n",
       "      <td>True</td>\n",
       "      <td>False</td>\n",
       "    </tr>\n",
       "  </tbody>\n",
       "</table>\n",
       "<p>41188 rows × 26 columns</p>\n",
       "</div>"
      ],
      "text/plain": [
       "       age  job_blue-collar  job_entrepreneur  job_housemaid  job_management  \\\n",
       "0       56            False             False           True           False   \n",
       "1       57            False             False          False           False   \n",
       "2       37            False             False          False           False   \n",
       "3       40            False             False          False           False   \n",
       "4       56            False             False          False           False   \n",
       "...    ...              ...               ...            ...             ...   \n",
       "41183   73            False             False          False           False   \n",
       "41184   46             True             False          False           False   \n",
       "41185   56            False             False          False           False   \n",
       "41186   44            False             False          False           False   \n",
       "41187   74            False             False          False           False   \n",
       "\n",
       "       job_retired  job_self-employed  job_services  job_student  \\\n",
       "0            False              False         False        False   \n",
       "1            False              False          True        False   \n",
       "2            False              False          True        False   \n",
       "3            False              False         False        False   \n",
       "4            False              False          True        False   \n",
       "...            ...                ...           ...          ...   \n",
       "41183         True              False         False        False   \n",
       "41184        False              False         False        False   \n",
       "41185         True              False         False        False   \n",
       "41186        False              False         False        False   \n",
       "41187         True              False         False        False   \n",
       "\n",
       "       job_technician  ...  education_basic.9y  education_high.school  \\\n",
       "0               False  ...               False                  False   \n",
       "1               False  ...               False                   True   \n",
       "2               False  ...               False                   True   \n",
       "3               False  ...               False                  False   \n",
       "4               False  ...               False                   True   \n",
       "...               ...  ...                 ...                    ...   \n",
       "41183           False  ...               False                  False   \n",
       "41184           False  ...               False                  False   \n",
       "41185           False  ...               False                  False   \n",
       "41186            True  ...               False                  False   \n",
       "41187           False  ...               False                  False   \n",
       "\n",
       "       education_illiterate  education_professional.course  \\\n",
       "0                     False                          False   \n",
       "1                     False                          False   \n",
       "2                     False                          False   \n",
       "3                     False                          False   \n",
       "4                     False                          False   \n",
       "...                     ...                            ...   \n",
       "41183                 False                           True   \n",
       "41184                 False                           True   \n",
       "41185                 False                          False   \n",
       "41186                 False                           True   \n",
       "41187                 False                           True   \n",
       "\n",
       "       education_university.degree  education_unknown  default_1.0  \\\n",
       "0                            False              False        False   \n",
       "1                            False              False        False   \n",
       "2                            False              False        False   \n",
       "3                            False              False        False   \n",
       "4                            False              False        False   \n",
       "...                            ...                ...          ...   \n",
       "41183                        False              False        False   \n",
       "41184                        False              False        False   \n",
       "41185                         True              False        False   \n",
       "41186                        False              False        False   \n",
       "41187                        False              False        False   \n",
       "\n",
       "       default_unknown  housing_1.0  loan_1.0  \n",
       "0                False        False     False  \n",
       "1                 True        False     False  \n",
       "2                False         True     False  \n",
       "3                False        False     False  \n",
       "4                False        False      True  \n",
       "...                ...          ...       ...  \n",
       "41183            False         True     False  \n",
       "41184            False        False     False  \n",
       "41185            False         True     False  \n",
       "41186            False        False     False  \n",
       "41187            False         True     False  \n",
       "\n",
       "[41188 rows x 26 columns]"
      ]
     },
     "execution_count": 243,
     "metadata": {},
     "output_type": "execute_result"
    }
   ],
   "source": [
    "X_dummies"
   ]
  },
  {
   "cell_type": "code",
   "execution_count": 275,
   "metadata": {},
   "outputs": [
    {
     "data": {
      "application/vnd.microsoft.datawrangler.viewer.v0+json": {
       "columns": [
        {
         "name": "index",
         "rawType": "object",
         "type": "string"
        },
        {
         "name": "term_deposit",
         "rawType": "float64",
         "type": "float"
        }
       ],
       "ref": "b4c62dda-0985-4af4-86d0-979f0048b5db",
       "rows": [
        [
         "term_deposit",
         "1.0"
        ],
        [
         "job_student",
         "0.09395498918093795"
        ],
        [
         "job_retired",
         "0.0922208429612557"
        ],
        [
         "marital_single",
         "0.054133498708307845"
        ],
        [
         "education_university.degree",
         "0.05036375375790681"
        ],
        [
         "age",
         "0.030398803040004647"
        ],
        [
         "education_unknown",
         "0.021430064315103296"
        ],
        [
         "job_unemployed",
         "0.014751895572852705"
        ],
        [
         "housing_1.0",
         "0.011085158131252508"
        ],
        [
         "education_illiterate",
         "0.007246189070148861"
        ],
        [
         "marital_unknown",
         "0.005210793085579794"
        ],
        [
         "education_professional.course",
         "0.0010031761401020174"
        ],
        [
         "job_unknown",
         "-0.00015149284487641273"
        ],
        [
         "job_management",
         "-0.00041886207376954043"
        ],
        [
         "default_1.0",
         "-0.00304101298352913"
        ],
        [
         "loan_1.0",
         "-0.004466117440488042"
        ],
        [
         "job_self-employed",
         "-0.004662544896685191"
        ],
        [
         "job_technician",
         "-0.006148639356561234"
        ],
        [
         "job_housemaid",
         "-0.006504932342859773"
        ],
        [
         "education_high.school",
         "-0.007452488955100415"
        ],
        [
         "job_entrepreneur",
         "-0.016643882021650524"
        ],
        [
         "education_basic.6y",
         "-0.023516789289352958"
        ],
        [
         "job_services",
         "-0.03230086750341447"
        ],
        [
         "marital_married",
         "-0.043397776425075335"
        ],
        [
         "education_basic.9y",
         "-0.045135069295314315"
        ],
        [
         "job_blue-collar",
         "-0.07442328716829641"
        ],
        [
         "default_unknown",
         "-0.09929338741810341"
        ]
       ],
       "shape": {
        "columns": 1,
        "rows": 27
       }
      },
      "text/plain": [
       "term_deposit                     1.000000\n",
       "job_student                      0.093955\n",
       "job_retired                      0.092221\n",
       "marital_single                   0.054133\n",
       "education_university.degree      0.050364\n",
       "age                              0.030399\n",
       "education_unknown                0.021430\n",
       "job_unemployed                   0.014752\n",
       "housing_1.0                      0.011085\n",
       "education_illiterate             0.007246\n",
       "marital_unknown                  0.005211\n",
       "education_professional.course    0.001003\n",
       "job_unknown                     -0.000151\n",
       "job_management                  -0.000419\n",
       "default_1.0                     -0.003041\n",
       "loan_1.0                        -0.004466\n",
       "job_self-employed               -0.004663\n",
       "job_technician                  -0.006149\n",
       "job_housemaid                   -0.006505\n",
       "education_high.school           -0.007452\n",
       "job_entrepreneur                -0.016644\n",
       "education_basic.6y              -0.023517\n",
       "job_services                    -0.032301\n",
       "marital_married                 -0.043398\n",
       "education_basic.9y              -0.045135\n",
       "job_blue-collar                 -0.074423\n",
       "default_unknown                 -0.099293\n",
       "Name: term_deposit, dtype: float64"
      ]
     },
     "execution_count": 275,
     "metadata": {},
     "output_type": "execute_result"
    }
   ],
   "source": [
    "# No strong correlation between the different features and the target.\n",
    "\n",
    "corr_with_target = corr['term_deposit'].sort_values(ascending=False)\n",
    "corr_with_target"
   ]
  },
  {
   "cell_type": "markdown",
   "metadata": {},
   "source": [
    "#### 3. Train a classifier on the training data"
   ]
  },
  {
   "cell_type": "code",
   "execution_count": 245,
   "metadata": {},
   "outputs": [],
   "source": [
    "knn=KNeighborsClassifier(n_neighbors=21)\n",
    "knn.fit(X_train_scaled,y_train)\n",
    "predictions = knn.predict(X_test_scaled)"
   ]
  },
  {
   "cell_type": "markdown",
   "metadata": {},
   "source": [
    "#### 4. Now dig into the evaluation of your first model\n",
    "    \n",
    "First of all, get the basic accuracy score and compare this against a baseline.\n",
    "    \n",
    "The baseline is \"predict everything is the majority class\" (in this case always predict no purchase). Our accuracy score should be higher than the % of the majority class."
   ]
  },
  {
   "cell_type": "code",
   "execution_count": 246,
   "metadata": {},
   "outputs": [
    {
     "name": "stdout",
     "output_type": "stream",
     "text": [
      "Accuracy: 0.8876371758764688\n",
      "Most Frequent Class: 0.8882198698650092\n"
     ]
    }
   ],
   "source": [
    "knn_accuracy = accuracy_score(y_test, predictions)\n",
    "most_freq_class = y_train.value_counts().index[0]\n",
    "baseline_predictions = [most_freq_class] * len(y_test)\n",
    "baseline_accuracy = accuracy_score(y_test, baseline_predictions)\n",
    "\n",
    "print('Accuracy:', knn_accuracy)\n",
    "print('Most Frequent Class:', baseline_accuracy)"
   ]
  },
  {
   "cell_type": "markdown",
   "metadata": {},
   "source": [
    "#### 5. Now build and inspect the confusion matrix\n",
    "\n",
    "- What does a false positive mean in this task? What does a false negative mean?\n",
    "- Which do you have more of?\n",
    "- What is the cost associated with these?"
   ]
  },
  {
   "cell_type": "code",
   "execution_count": 247,
   "metadata": {},
   "outputs": [
    {
     "data": {
      "text/plain": [
       "array([[9106,   40],\n",
       "       [1117,   34]])"
      ]
     },
     "execution_count": 247,
     "metadata": {},
     "output_type": "execute_result"
    }
   ],
   "source": [
    "from sklearn.metrics import confusion_matrix, ConfusionMatrixDisplay\n",
    "\n",
    "confusion_matrix(y_test, predictions, labels=knn.classes_)"
   ]
  },
  {
   "cell_type": "code",
   "execution_count": 248,
   "metadata": {},
   "outputs": [
    {
     "data": {
      "image/png": "[encoded data removed]",
      "text/plain": [
       "<Figure size 640x480 with 2 Axes>"
      ]
     },
     "metadata": {},
     "output_type": "display_data"
    }
   ],
   "source": [
    "\n",
    "cm = confusion_matrix(y_test, predictions, labels=knn.classes_)\n",
    "\n",
    "disp = ConfusionMatrixDisplay(confusion_matrix=cm, display_labels=knn.classes_)\n",
    "disp.plot()\n",
    "plt.savefig('confusion_matrix.png')"
   ]
  },
  {
   "cell_type": "code",
   "execution_count": 257,
   "metadata": {},
   "outputs": [
    {
     "data": {
      "text/plain": [
       "array([[0.85858586, 0.14141414],\n",
       "       [0.93939394, 0.06060606],\n",
       "       [0.87878788, 0.12121212],\n",
       "       ...,\n",
       "       [0.7979798 , 0.2020202 ],\n",
       "       [0.8989899 , 0.1010101 ],\n",
       "       [0.87878788, 0.12121212]], shape=(30891, 2))"
      ]
     },
     "execution_count": 257,
     "metadata": {},
     "output_type": "execute_result"
    }
   ],
   "source": [
    "knn.predict_proba(X_train_scaled)"
   ]
  },
  {
   "cell_type": "code",
   "execution_count": 269,
   "metadata": {},
   "outputs": [],
   "source": [
    "#Check for the best value of K.\n",
    "scores = []\n",
    "for k in range(1,100):\n",
    "    knn = KNeighborsClassifier(n_neighbors=k)\n",
    "    knn.fit(X_train_scaled,y_train)\n",
    "    pred = knn.predict(X_test_scaled)\n",
    "    score = float(sum(pred == y_test)) / len(y_test)\n",
    "    scores.append([k, score])\n"
   ]
  },
  {
   "cell_type": "code",
   "execution_count": 274,
   "metadata": {},
   "outputs": [
    {
     "data": {
      "image/png": "[encoded data removed]",
      "text/plain": [
       "<Figure size 640x480 with 1 Axes>"
      ]
     },
     "metadata": {},
     "output_type": "display_data"
    }
   ],
   "source": [
    "#Plotting the best value of K we can observe the accurracy peaks at about k=20.\n",
    "\n",
    "data = pd.DataFrame(scores,columns=['k','score'])\n",
    "data.plot.line(x='k',y='score')\n",
    "plt.xlabel('K Neighbors')\n",
    "plt.ylabel('Accuracy')\n",
    "plt.title('KNN Accuracy vs. k')\n",
    "plt.savefig('best_value_k.png')"
   ]
  },
  {
   "cell_type": "markdown",
   "metadata": {},
   "source": [
    "#### 6. Inspect the errors in more detail\n",
    "\n",
    "Beyond summary accuracy metrics, you want to know how your model performed across various customers.\n",
    "\n",
    "Your analysis should **not** be limited to the columns you used as features. If you used age for example, consider looking at how errors are distributed among marital status for example.\n",
    "\n",
    "What you want to know is: ***is our model more/less accurate for different types of customers?***\n",
    "\n",
    "An idea for this is to:\n",
    "- create a column that denotes whether a customer was correctly predicted as wanting to purchase the product or not\n",
    "- look at the distribution this column (i.e. the accuracy) among different categories (either age, job, education level etc.)"
   ]
  },
  {
   "cell_type": "code",
   "execution_count": 258,
   "metadata": {},
   "outputs": [
    {
     "data": {
      "application/vnd.microsoft.datawrangler.viewer.v0+json": {
       "columns": [
        {
         "name": "index",
         "rawType": "int64",
         "type": "integer"
        },
        {
         "name": "actual",
         "rawType": "int64",
         "type": "integer"
        },
        {
         "name": "predicted",
         "rawType": "int64",
         "type": "integer"
        },
        {
         "name": "correct",
         "rawType": "bool",
         "type": "boolean"
        }
       ],
       "ref": "3f1940b8-8daa-4361-ae0c-bae1c459f153",
       "rows": [
        [
         "0",
         "0",
         "0",
         "True"
        ],
        [
         "1",
         "1",
         "0",
         "False"
        ],
        [
         "2",
         "0",
         "0",
         "True"
        ],
        [
         "3",
         "0",
         "0",
         "True"
        ],
        [
         "4",
         "0",
         "0",
         "True"
        ]
       ],
       "shape": {
        "columns": 3,
        "rows": 5
       }
      },
      "text/html": [
       "<div>\n",
       "<style scoped>\n",
       "    .dataframe tbody tr th:only-of-type {\n",
       "        vertical-align: middle;\n",
       "    }\n",
       "\n",
       "    .dataframe tbody tr th {\n",
       "        vertical-align: top;\n",
       "    }\n",
       "\n",
       "    .dataframe thead th {\n",
       "        text-align: right;\n",
       "    }\n",
       "</style>\n",
       "<table border=\"1\" class=\"dataframe\">\n",
       "  <thead>\n",
       "    <tr style=\"text-align: right;\">\n",
       "      <th></th>\n",
       "      <th>actual</th>\n",
       "      <th>predicted</th>\n",
       "      <th>correct</th>\n",
       "    </tr>\n",
       "  </thead>\n",
       "  <tbody>\n",
       "    <tr>\n",
       "      <th>0</th>\n",
       "      <td>0</td>\n",
       "      <td>0</td>\n",
       "      <td>True</td>\n",
       "    </tr>\n",
       "    <tr>\n",
       "      <th>1</th>\n",
       "      <td>1</td>\n",
       "      <td>0</td>\n",
       "      <td>False</td>\n",
       "    </tr>\n",
       "    <tr>\n",
       "      <th>2</th>\n",
       "      <td>0</td>\n",
       "      <td>0</td>\n",
       "      <td>True</td>\n",
       "    </tr>\n",
       "    <tr>\n",
       "      <th>3</th>\n",
       "      <td>0</td>\n",
       "      <td>0</td>\n",
       "      <td>True</td>\n",
       "    </tr>\n",
       "    <tr>\n",
       "      <th>4</th>\n",
       "      <td>0</td>\n",
       "      <td>0</td>\n",
       "      <td>True</td>\n",
       "    </tr>\n",
       "  </tbody>\n",
       "</table>\n",
       "</div>"
      ],
      "text/plain": [
       "   actual  predicted  correct\n",
       "0       0          0     True\n",
       "1       1          0    False\n",
       "2       0          0     True\n",
       "3       0          0     True\n",
       "4       0          0     True"
      ]
     },
     "execution_count": 258,
     "metadata": {},
     "output_type": "execute_result"
    }
   ],
   "source": [
    "results = pd.DataFrame({'actual': y_test.reset_index(drop=True), 'predicted': predictions})\n",
    "results['correct'] = results['actual'] == results['predicted']\n",
    "results.head()"
   ]
  },
  {
   "cell_type": "markdown",
   "metadata": {},
   "source": [
    "#### 7. Build your second model\n",
    "\n",
    "Now try to change something based on the process and results so far, and inspect the accuracy and confusion matrix again\n",
    "\n",
    "- If you are happy with your features, you could tweak some parameters in your classifier\n",
    "- If you had some additional features you thought may be useful, try adding them\n",
    "- BONUS: you could even *create* new features based on your EDA!"
   ]
  },
  {
   "cell_type": "code",
   "execution_count": 292,
   "metadata": {},
   "outputs": [
    {
     "data": {
      "application/vnd.microsoft.datawrangler.viewer.v0+json": {
       "columns": [
        {
         "name": "index",
         "rawType": "object",
         "type": "string"
        },
        {
         "name": "age",
         "rawType": "int64",
         "type": "integer"
        },
        {
         "name": "job",
         "rawType": "object",
         "type": "string"
        },
        {
         "name": "marital",
         "rawType": "object",
         "type": "string"
        },
        {
         "name": "education",
         "rawType": "object",
         "type": "string"
        },
        {
         "name": "default",
         "rawType": "object",
         "type": "unknown"
        },
        {
         "name": "housing",
         "rawType": "float64",
         "type": "float"
        },
        {
         "name": "loan",
         "rawType": "float64",
         "type": "float"
        },
        {
         "name": "contact",
         "rawType": "object",
         "type": "string"
        },
        {
         "name": "month",
         "rawType": "object",
         "type": "string"
        },
        {
         "name": "day_of_week",
         "rawType": "object",
         "type": "string"
        },
        {
         "name": "campaign",
         "rawType": "int64",
         "type": "integer"
        },
        {
         "name": "pdays",
         "rawType": "int64",
         "type": "integer"
        },
        {
         "name": "previous",
         "rawType": "int64",
         "type": "integer"
        },
        {
         "name": "poutcome",
         "rawType": "object",
         "type": "string"
        },
        {
         "name": "emp.var.rate",
         "rawType": "float64",
         "type": "float"
        },
        {
         "name": "cons.price.idx",
         "rawType": "float64",
         "type": "float"
        },
        {
         "name": "cons.conf.idx",
         "rawType": "float64",
         "type": "float"
        },
        {
         "name": "euribor3m",
         "rawType": "float64",
         "type": "float"
        },
        {
         "name": "nr.employed",
         "rawType": "float64",
         "type": "float"
        },
        {
         "name": "term_deposit",
         "rawType": "int64",
         "type": "integer"
        },
        {
         "name": "age_group",
         "rawType": "category",
         "type": "unknown"
        }
       ],
       "ref": "602f1fad-e349-4f5d-8745-92beef58a044",
       "rows": [
        [
         "0",
         "56",
         "housemaid",
         "married",
         "basic.4y",
         "0.0",
         "0.0",
         "0.0",
         "telephone",
         "may",
         "mon",
         "1",
         "999",
         "0",
         "nonexistent",
         "1.1",
         "93.994",
         "-36.4",
         "4.857",
         "5191.0",
         "0",
         "56-65"
        ],
        [
         "1",
         "57",
         "services",
         "married",
         "high.school",
         "unknown",
         "0.0",
         "0.0",
         "telephone",
         "may",
         "mon",
         "1",
         "999",
         "0",
         "nonexistent",
         "1.1",
         "93.994",
         "-36.4",
         "4.857",
         "5191.0",
         "0",
         "56-65"
        ],
        [
         "2",
         "37",
         "services",
         "married",
         "high.school",
         "0.0",
         "1.0",
         "0.0",
         "telephone",
         "may",
         "mon",
         "1",
         "999",
         "0",
         "nonexistent",
         "1.1",
         "93.994",
         "-36.4",
         "4.857",
         "5191.0",
         "0",
         "36-45"
        ],
        [
         "3",
         "40",
         "admin.",
         "married",
         "basic.6y",
         "0.0",
         "0.0",
         "0.0",
         "telephone",
         "may",
         "mon",
         "1",
         "999",
         "0",
         "nonexistent",
         "1.1",
         "93.994",
         "-36.4",
         "4.857",
         "5191.0",
         "0",
         "36-45"
        ],
        [
         "4",
         "56",
         "services",
         "married",
         "high.school",
         "0.0",
         "0.0",
         "1.0",
         "telephone",
         "may",
         "mon",
         "1",
         "999",
         "0",
         "nonexistent",
         "1.1",
         "93.994",
         "-36.4",
         "4.857",
         "5191.0",
         "0",
         "56-65"
        ]
       ],
       "shape": {
        "columns": 21,
        "rows": 5
       }
      },
      "text/html": [
       "<div>\n",
       "<style scoped>\n",
       "    .dataframe tbody tr th:only-of-type {\n",
       "        vertical-align: middle;\n",
       "    }\n",
       "\n",
       "    .dataframe tbody tr th {\n",
       "        vertical-align: top;\n",
       "    }\n",
       "\n",
       "    .dataframe thead th {\n",
       "        text-align: right;\n",
       "    }\n",
       "</style>\n",
       "<table border=\"1\" class=\"dataframe\">\n",
       "  <thead>\n",
       "    <tr style=\"text-align: right;\">\n",
       "      <th></th>\n",
       "      <th>age</th>\n",
       "      <th>job</th>\n",
       "      <th>marital</th>\n",
       "      <th>education</th>\n",
       "      <th>default</th>\n",
       "      <th>housing</th>\n",
       "      <th>loan</th>\n",
       "      <th>contact</th>\n",
       "      <th>month</th>\n",
       "      <th>day_of_week</th>\n",
       "      <th>...</th>\n",
       "      <th>pdays</th>\n",
       "      <th>previous</th>\n",
       "      <th>poutcome</th>\n",
       "      <th>emp.var.rate</th>\n",
       "      <th>cons.price.idx</th>\n",
       "      <th>cons.conf.idx</th>\n",
       "      <th>euribor3m</th>\n",
       "      <th>nr.employed</th>\n",
       "      <th>term_deposit</th>\n",
       "      <th>age_group</th>\n",
       "    </tr>\n",
       "  </thead>\n",
       "  <tbody>\n",
       "    <tr>\n",
       "      <th>0</th>\n",
       "      <td>56</td>\n",
       "      <td>housemaid</td>\n",
       "      <td>married</td>\n",
       "      <td>basic.4y</td>\n",
       "      <td>0.0</td>\n",
       "      <td>0.0</td>\n",
       "      <td>0.0</td>\n",
       "      <td>telephone</td>\n",
       "      <td>may</td>\n",
       "      <td>mon</td>\n",
       "      <td>...</td>\n",
       "      <td>999</td>\n",
       "      <td>0</td>\n",
       "      <td>nonexistent</td>\n",
       "      <td>1.1</td>\n",
       "      <td>93.994</td>\n",
       "      <td>-36.4</td>\n",
       "      <td>4.857</td>\n",
       "      <td>5191.0</td>\n",
       "      <td>0</td>\n",
       "      <td>56-65</td>\n",
       "    </tr>\n",
       "    <tr>\n",
       "      <th>1</th>\n",
       "      <td>57</td>\n",
       "      <td>services</td>\n",
       "      <td>married</td>\n",
       "      <td>high.school</td>\n",
       "      <td>unknown</td>\n",
       "      <td>0.0</td>\n",
       "      <td>0.0</td>\n",
       "      <td>telephone</td>\n",
       "      <td>may</td>\n",
       "      <td>mon</td>\n",
       "      <td>...</td>\n",
       "      <td>999</td>\n",
       "      <td>0</td>\n",
       "      <td>nonexistent</td>\n",
       "      <td>1.1</td>\n",
       "      <td>93.994</td>\n",
       "      <td>-36.4</td>\n",
       "      <td>4.857</td>\n",
       "      <td>5191.0</td>\n",
       "      <td>0</td>\n",
       "      <td>56-65</td>\n",
       "    </tr>\n",
       "    <tr>\n",
       "      <th>2</th>\n",
       "      <td>37</td>\n",
       "      <td>services</td>\n",
       "      <td>married</td>\n",
       "      <td>high.school</td>\n",
       "      <td>0.0</td>\n",
       "      <td>1.0</td>\n",
       "      <td>0.0</td>\n",
       "      <td>telephone</td>\n",
       "      <td>may</td>\n",
       "      <td>mon</td>\n",
       "      <td>...</td>\n",
       "      <td>999</td>\n",
       "      <td>0</td>\n",
       "      <td>nonexistent</td>\n",
       "      <td>1.1</td>\n",
       "      <td>93.994</td>\n",
       "      <td>-36.4</td>\n",
       "      <td>4.857</td>\n",
       "      <td>5191.0</td>\n",
       "      <td>0</td>\n",
       "      <td>36-45</td>\n",
       "    </tr>\n",
       "    <tr>\n",
       "      <th>3</th>\n",
       "      <td>40</td>\n",
       "      <td>admin.</td>\n",
       "      <td>married</td>\n",
       "      <td>basic.6y</td>\n",
       "      <td>0.0</td>\n",
       "      <td>0.0</td>\n",
       "      <td>0.0</td>\n",
       "      <td>telephone</td>\n",
       "      <td>may</td>\n",
       "      <td>mon</td>\n",
       "      <td>...</td>\n",
       "      <td>999</td>\n",
       "      <td>0</td>\n",
       "      <td>nonexistent</td>\n",
       "      <td>1.1</td>\n",
       "      <td>93.994</td>\n",
       "      <td>-36.4</td>\n",
       "      <td>4.857</td>\n",
       "      <td>5191.0</td>\n",
       "      <td>0</td>\n",
       "      <td>36-45</td>\n",
       "    </tr>\n",
       "    <tr>\n",
       "      <th>4</th>\n",
       "      <td>56</td>\n",
       "      <td>services</td>\n",
       "      <td>married</td>\n",
       "      <td>high.school</td>\n",
       "      <td>0.0</td>\n",
       "      <td>0.0</td>\n",
       "      <td>1.0</td>\n",
       "      <td>telephone</td>\n",
       "      <td>may</td>\n",
       "      <td>mon</td>\n",
       "      <td>...</td>\n",
       "      <td>999</td>\n",
       "      <td>0</td>\n",
       "      <td>nonexistent</td>\n",
       "      <td>1.1</td>\n",
       "      <td>93.994</td>\n",
       "      <td>-36.4</td>\n",
       "      <td>4.857</td>\n",
       "      <td>5191.0</td>\n",
       "      <td>0</td>\n",
       "      <td>56-65</td>\n",
       "    </tr>\n",
       "  </tbody>\n",
       "</table>\n",
       "<p>5 rows × 21 columns</p>\n",
       "</div>"
      ],
      "text/plain": [
       "   age        job  marital    education  default  housing  loan    contact  \\\n",
       "0   56  housemaid  married     basic.4y      0.0      0.0   0.0  telephone   \n",
       "1   57   services  married  high.school  unknown      0.0   0.0  telephone   \n",
       "2   37   services  married  high.school      0.0      1.0   0.0  telephone   \n",
       "3   40     admin.  married     basic.6y      0.0      0.0   0.0  telephone   \n",
       "4   56   services  married  high.school      0.0      0.0   1.0  telephone   \n",
       "\n",
       "  month day_of_week  ...  pdays  previous     poutcome emp.var.rate  \\\n",
       "0   may         mon  ...    999         0  nonexistent          1.1   \n",
       "1   may         mon  ...    999         0  nonexistent          1.1   \n",
       "2   may         mon  ...    999         0  nonexistent          1.1   \n",
       "3   may         mon  ...    999         0  nonexistent          1.1   \n",
       "4   may         mon  ...    999         0  nonexistent          1.1   \n",
       "\n",
       "   cons.price.idx  cons.conf.idx  euribor3m  nr.employed  term_deposit  \\\n",
       "0          93.994          -36.4      4.857       5191.0             0   \n",
       "1          93.994          -36.4      4.857       5191.0             0   \n",
       "2          93.994          -36.4      4.857       5191.0             0   \n",
       "3          93.994          -36.4      4.857       5191.0             0   \n",
       "4          93.994          -36.4      4.857       5191.0             0   \n",
       "\n",
       "   age_group  \n",
       "0      56-65  \n",
       "1      56-65  \n",
       "2      36-45  \n",
       "3      36-45  \n",
       "4      56-65  \n",
       "\n",
       "[5 rows x 21 columns]"
      ]
     },
     "execution_count": 292,
     "metadata": {},
     "output_type": "execute_result"
    }
   ],
   "source": [
    "bank.head()"
   ]
  },
  {
   "cell_type": "code",
   "execution_count": 312,
   "metadata": {},
   "outputs": [
    {
     "data": {
      "text/plain": [
       "Index(['age', 'job', 'marital', 'education', 'default', 'housing', 'loan',\n",
       "       'contact', 'month', 'day_of_week', 'campaign', 'pdays', 'previous',\n",
       "       'poutcome', 'emp.var.rate', 'cons.price.idx', 'cons.conf.idx',\n",
       "       'euribor3m', 'nr.employed', 'term_deposit', 'age_group'],\n",
       "      dtype='object')"
      ]
     },
     "execution_count": 312,
     "metadata": {},
     "output_type": "execute_result"
    }
   ],
   "source": [
    "bank.columns"
   ]
  },
  {
   "cell_type": "code",
   "execution_count": 318,
   "metadata": {},
   "outputs": [],
   "source": [
    "#Selected all features related to the the customer itself. \n",
    "\n",
    "features = ['age', 'job', 'marital', 'education', 'default', 'housing', 'loan', 'emp.var.rate', 'cons.price.idx', 'cons.conf.idx','euribor3m', 'nr.employed']"
   ]
  },
  {
   "cell_type": "code",
   "execution_count": 319,
   "metadata": {},
   "outputs": [
    {
     "data": {
      "application/vnd.microsoft.datawrangler.viewer.v0+json": {
       "columns": [
        {
         "name": "index",
         "rawType": "object",
         "type": "string"
        },
        {
         "name": "0",
         "rawType": "int64",
         "type": "integer"
        }
       ],
       "ref": "d623bffd-3149-4dbb-8038-36aa83c31499",
       "rows": [
        [
         "age",
         "0"
        ],
        [
         "job",
         "0"
        ],
        [
         "marital",
         "0"
        ],
        [
         "education",
         "0"
        ],
        [
         "default",
         "0"
        ],
        [
         "housing",
         "0"
        ],
        [
         "loan",
         "0"
        ],
        [
         "contact",
         "0"
        ],
        [
         "month",
         "0"
        ],
        [
         "day_of_week",
         "0"
        ],
        [
         "campaign",
         "0"
        ],
        [
         "pdays",
         "0"
        ],
        [
         "previous",
         "0"
        ],
        [
         "poutcome",
         "0"
        ],
        [
         "emp.var.rate",
         "0"
        ],
        [
         "cons.price.idx",
         "0"
        ],
        [
         "cons.conf.idx",
         "0"
        ],
        [
         "euribor3m",
         "0"
        ],
        [
         "nr.employed",
         "0"
        ],
        [
         "term_deposit",
         "0"
        ],
        [
         "age_group",
         "0"
        ]
       ],
       "shape": {
        "columns": 1,
        "rows": 21
       }
      },
      "text/plain": [
       "age               0\n",
       "job               0\n",
       "marital           0\n",
       "education         0\n",
       "default           0\n",
       "housing           0\n",
       "loan              0\n",
       "contact           0\n",
       "month             0\n",
       "day_of_week       0\n",
       "campaign          0\n",
       "pdays             0\n",
       "previous          0\n",
       "poutcome          0\n",
       "emp.var.rate      0\n",
       "cons.price.idx    0\n",
       "cons.conf.idx     0\n",
       "euribor3m         0\n",
       "nr.employed       0\n",
       "term_deposit      0\n",
       "age_group         0\n",
       "dtype: int64"
      ]
     },
     "execution_count": 319,
     "metadata": {},
     "output_type": "execute_result"
    }
   ],
   "source": [
    "#Using simple imputer filled missing values using the most frequent values.\n",
    "mode_imputer = SimpleImputer(strategy='most_frequent')\n",
    "bank[['housing', 'loan']] = mode_imputer.fit_transform(bank[['housing', 'loan']])\n",
    "bank.isna().sum()"
   ]
  },
  {
   "cell_type": "code",
   "execution_count": 320,
   "metadata": {},
   "outputs": [],
   "source": [
    "from sklearn.preprocessing import StandardScaler\n",
    "\n",
    "X = bank[features]\n",
    "y = bank['term_deposit']\n",
    "X_dummies = pd.get_dummies(X, columns=['age', 'job', 'marital', 'education', 'default', 'housing', 'loan', 'emp.var.rate', 'cons.price.idx', 'cons.conf.idx','euribor3m', 'nr.employed'], drop_first=True)\n",
    "X_train, X_test, y_train, y_test=train_test_split(X_dummies,y,random_state=99)\n",
    "\n",
    "scaler = StandardScaler()\n",
    "X_train_scaled = scaler.fit_transform(X_train)\n",
    "X_test_scaled = scaler.transform(X_test)\n"
   ]
  },
  {
   "cell_type": "code",
   "execution_count": 321,
   "metadata": {},
   "outputs": [],
   "source": [
    "knn=KNeighborsClassifier(n_neighbors=21)\n",
    "knn.fit(X_train_scaled,y_train)\n",
    "predictions = knn.predict(X_test_scaled)"
   ]
  },
  {
   "cell_type": "code",
   "execution_count": 322,
   "metadata": {},
   "outputs": [
    {
     "name": "stdout",
     "output_type": "stream",
     "text": [
      "Accuracy: 0.8889967951830631\n",
      "Most Frequent Class: 0.8882198698650092\n"
     ]
    }
   ],
   "source": [
    "knn_accuracy = accuracy_score(y_test, predictions)\n",
    "most_freq_class = y_train.value_counts().index[0]\n",
    "baseline_predictions = [most_freq_class] * len(y_test)\n",
    "baseline_accuracy = accuracy_score(y_test, baseline_predictions)\n",
    "\n",
    "print('Accuracy:', knn_accuracy)\n",
    "print('Most Frequent Class:', baseline_accuracy)"
   ]
  },
  {
   "cell_type": "code",
   "execution_count": 323,
   "metadata": {},
   "outputs": [
    {
     "data": {
      "text/plain": [
       "array([[8941,  205],\n",
       "       [ 938,  213]])"
      ]
     },
     "execution_count": 323,
     "metadata": {},
     "output_type": "execute_result"
    }
   ],
   "source": [
    "from sklearn.metrics import confusion_matrix, ConfusionMatrixDisplay\n",
    "\n",
    "confusion_matrix(y_test, predictions, labels=knn.classes_)"
   ]
  },
  {
   "cell_type": "code",
   "execution_count": 324,
   "metadata": {},
   "outputs": [
    {
     "data": {
      "image/png": "[encoded data removed]",
      "text/plain": [
       "<Figure size 640x480 with 2 Axes>"
      ]
     },
     "metadata": {},
     "output_type": "display_data"
    }
   ],
   "source": [
    "cm = confusion_matrix(y_test, predictions, labels=knn.classes_)\n",
    "\n",
    "disp = ConfusionMatrixDisplay(confusion_matrix=cm, display_labels=knn.classes_)\n",
    "disp.plot()\n",
    "plt.savefig('confusion_matrix2.png')"
   ]
  }
 ],
 "metadata": {
  "kernelspec": {
   "display_name": "Python (globalvenv)",
   "language": "python",
   "name": "globalvenv"
  },
  "language_info": {
   "codemirror_mode": {
    "name": "ipython",
    "version": 3
   },
   "file_extension": ".py",
   "mimetype": "text/x-python",
   "name": "python",
   "nbconvert_exporter": "python",
   "pygments_lexer": "ipython3",
   "version": "3.13.5"
  }
 },
 "nbformat": 4,
 "nbformat_minor": 2
}
